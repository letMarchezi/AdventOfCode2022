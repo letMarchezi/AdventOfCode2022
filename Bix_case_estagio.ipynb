{
  "nbformat": 4,
  "nbformat_minor": 0,
  "metadata": {
    "colab": {
      "provenance": [],
      "collapsed_sections": [
        "lAhvwe6qmSg2"
      ],
      "authorship_tag": "ABX9TyMcq+uKBzlV3MvauyZUZdpm",
      "include_colab_link": true
    },
    "kernelspec": {
      "name": "python3",
      "display_name": "Python 3"
    },
    "language_info": {
      "name": "python"
    }
  },
  "cells": [
    {
      "cell_type": "markdown",
      "metadata": {
        "id": "view-in-github",
        "colab_type": "text"
      },
      "source": [
        "<a href=\"https://colab.research.google.com/github/letMarchezi/AdventOfCode2022/blob/main/Bix_case_estagio.ipynb\" target=\"_parent\"><img src=\"https://colab.research.google.com/assets/colab-badge.svg\" alt=\"Open In Colab\"/></a>"
      ]
    },
    {
      "cell_type": "code",
      "execution_count": null,
      "metadata": {
        "id": "HIekAGlUnmzH"
      },
      "outputs": [],
      "source": [
        "import pandas as pd\n",
        "url = \"https://drive.google.com/file/d/1OG4dr83QS8TGNbTMqWP4gUNb5eAVPrtg/view?usp=drive_link\"\n",
        "url = 'https://drive.google.com/uc?id=' + url.split('/')[-2]\n",
        "df_test = pd.read_csv(url,na_values=\"na\")"
      ]
    },
    {
      "cell_type": "code",
      "source": [
        "url = \"https://drive.google.com/file/d/1D90EBW6l6iWZN3StxZgYKf_4zuzq-83A/view?usp=drive_link\"\n",
        "url = 'https://drive.google.com/uc?id=' + url.split('/')[-2]\n",
        "df_train = pd.read_csv(url,na_values=\"na\")"
      ],
      "metadata": {
        "id": "vMo6liwOnxbl"
      },
      "execution_count": null,
      "outputs": []
    },
    {
      "cell_type": "code",
      "source": [
        "pd.set_option('display.max_rows', None)"
      ],
      "metadata": {
        "id": "BGQRqU_FSm2U"
      },
      "execution_count": null,
      "outputs": []
    },
    {
      "cell_type": "code",
      "source": [
        "df_train.info()"
      ],
      "metadata": {
        "id": "6apsDyVsm-o4"
      },
      "execution_count": null,
      "outputs": []
    },
    {
      "cell_type": "code",
      "source": [
        "df_train.head(20)"
      ],
      "metadata": {
        "id": "63oMDtlYoMO-",
        "collapsed": true
      },
      "execution_count": null,
      "outputs": []
    },
    {
      "cell_type": "markdown",
      "source": [
        "### Questions"
      ],
      "metadata": {
        "id": "lAhvwe6qmSg2"
      }
    },
    {
      "cell_type": "markdown",
      "source": [
        "#### Q2"
      ],
      "metadata": {
        "id": "TeUoirvFFrg1"
      }
    },
    {
      "cell_type": "code",
      "source": [
        "df_train[\"class\"].value_counts()"
      ],
      "metadata": {
        "id": "k1VaPiz3n2cq"
      },
      "execution_count": null,
      "outputs": []
    },
    {
      "cell_type": "code",
      "source": [
        "(1000)/(59000+1000)"
      ],
      "metadata": {
        "id": "gASqSSSoFuls"
      },
      "execution_count": null,
      "outputs": []
    },
    {
      "cell_type": "markdown",
      "source": [
        "#### Q3"
      ],
      "metadata": {
        "id": "GzfTS46OFcti"
      }
    },
    {
      "cell_type": "code",
      "source": [
        "df_train[\"ee_003\"].mean()"
      ],
      "metadata": {
        "id": "JkpUzJSPD4RS"
      },
      "execution_count": null,
      "outputs": []
    },
    {
      "cell_type": "code",
      "source": [
        "df_train[\"ee_003\"].median()"
      ],
      "metadata": {
        "id": "nK_-TsrfEG7F"
      },
      "execution_count": null,
      "outputs": []
    },
    {
      "cell_type": "code",
      "source": [
        "df_train[\"ee_003\"].std()"
      ],
      "metadata": {
        "id": "g1fcYXyxEDNz"
      },
      "execution_count": null,
      "outputs": []
    },
    {
      "cell_type": "markdown",
      "source": [
        "#### Q4"
      ],
      "metadata": {
        "id": "YiIjEYJsFe7U"
      }
    },
    {
      "cell_type": "code",
      "source": [
        "train_not_null = df_train.dropna()"
      ],
      "metadata": {
        "id": "93j23O9MEnyc"
      },
      "execution_count": null,
      "outputs": []
    },
    {
      "cell_type": "code",
      "source": [
        "train_not_null[\"ag_002\"].mean()"
      ],
      "metadata": {
        "id": "jN_2-nStFQaD"
      },
      "execution_count": null,
      "outputs": []
    },
    {
      "cell_type": "code",
      "source": [
        "train_not_null[\"ag_002\"].median()"
      ],
      "metadata": {
        "id": "fDkiGb6iFRnM"
      },
      "execution_count": null,
      "outputs": []
    },
    {
      "cell_type": "code",
      "source": [
        "train_not_null[\"ag_002\"].std()"
      ],
      "metadata": {
        "id": "DyxkUKPvFTFc"
      },
      "execution_count": null,
      "outputs": []
    },
    {
      "cell_type": "markdown",
      "source": [
        "#### Q5"
      ],
      "metadata": {
        "id": "9ypCK56yGCkT"
      }
    },
    {
      "cell_type": "markdown",
      "source": [
        "By saying 'Don't consider null values', the correlation coefficient was calculated using the dataframe after dropping all the null values, it is, all rows with any null values were removed, and not only the null values for any of the 2 columns."
      ],
      "metadata": {
        "id": "bNX6O7VHHe7D"
      }
    },
    {
      "cell_type": "code",
      "source": [
        "num=['ag_002','ee_007']\n",
        "\n",
        "corr_df = train_not_null[num]\n",
        "cor= corr_df.corr(method='spearman')\n",
        "print(cor)"
      ],
      "metadata": {
        "id": "qJpb8MX9GBe0"
      },
      "execution_count": null,
      "outputs": []
    },
    {
      "cell_type": "markdown",
      "source": [
        "#### Q6"
      ],
      "metadata": {
        "id": "Jb3pI9MqHxkj"
      }
    },
    {
      "cell_type": "markdown",
      "source": [
        "By saying 'Don't consider null values', the correlation coefficient was calculated using the dataframe after dropping all the null values, it is, all rows with any null values were removed, and not only the null values for any of the 2 columns."
      ],
      "metadata": {
        "id": "cD--iO1IHzrU"
      }
    },
    {
      "cell_type": "code",
      "source": [
        "num=['ee_005','ac_000']\n",
        "\n",
        "corr_df = train_not_null[num]\n",
        "cor= corr_df.corr(method='pearson')\n",
        "print(cor)"
      ],
      "metadata": {
        "id": "CpOLRbn7HHle"
      },
      "execution_count": null,
      "outputs": []
    },
    {
      "cell_type": "markdown",
      "source": [
        "#### Q7"
      ],
      "metadata": {
        "id": "8Fk-7kozH5se"
      }
    },
    {
      "cell_type": "code",
      "source": [
        "df_group = train_not_null.groupby(\"class\")"
      ],
      "metadata": {
        "id": "x_KGo6dfH-qx"
      },
      "execution_count": null,
      "outputs": []
    },
    {
      "cell_type": "code",
      "source": [
        "df_group[\"ad_000\"].median()"
      ],
      "metadata": {
        "id": "3liN3ARaIKfL"
      },
      "execution_count": null,
      "outputs": []
    },
    {
      "cell_type": "markdown",
      "source": [
        "#### Q8"
      ],
      "metadata": {
        "id": "dil-cr0WIle4"
      }
    },
    {
      "cell_type": "code",
      "source": [
        "df_train.groupby(\"class\")[\"ee_001\"].mean()"
      ],
      "metadata": {
        "id": "qxY9qQdlMhDu"
      },
      "execution_count": null,
      "outputs": []
    },
    {
      "cell_type": "markdown",
      "source": [
        "#### Q9"
      ],
      "metadata": {
        "id": "u--KBCsKM17c"
      }
    },
    {
      "cell_type": "code",
      "source": [
        "df_train.isna().sum().sum()"
      ],
      "metadata": {
        "id": "KWKx5DHNMxG0"
      },
      "execution_count": null,
      "outputs": []
    },
    {
      "cell_type": "markdown",
      "source": [
        "#### Q10"
      ],
      "metadata": {
        "id": "IyZbi4h7M56N"
      }
    },
    {
      "cell_type": "code",
      "source": [
        "df_train.isna().sum().sort_values(ascending=False)[0:5]"
      ],
      "metadata": {
        "id": "RgzpP8_2M73Y"
      },
      "execution_count": null,
      "outputs": []
    },
    {
      "cell_type": "markdown",
      "source": [
        "#### Q12"
      ],
      "metadata": {
        "id": "Da2u1Pz4O9di"
      }
    },
    {
      "cell_type": "code",
      "source": [
        "quantile_value = train_not_null['ci_000'].quantile(0.32)\n",
        "quantile_value"
      ],
      "metadata": {
        "id": "9atDqdlsPHfW"
      },
      "execution_count": null,
      "outputs": []
    },
    {
      "cell_type": "markdown",
      "source": [
        "### Continuação"
      ],
      "metadata": {
        "id": "WVb1DlpCTyPx"
      }
    },
    {
      "cell_type": "code",
      "source": [
        "df_train[\"class\"] = df_train[\"class\"].apply(lambda x: 1 if x ==\"pos\" else 0)\n",
        "df_test[\"class\"] = df_test[\"class\"].apply(lambda x: 1 if x ==\"pos\" else 0)"
      ],
      "metadata": {
        "id": "KmKfWdcuURen"
      },
      "execution_count": null,
      "outputs": []
    },
    {
      "cell_type": "code",
      "source": [
        "cor = df_train.corr(method='pearson')\n",
        "print(cor)"
      ],
      "metadata": {
        "collapsed": true,
        "id": "ujSUc0fOTlbv"
      },
      "execution_count": null,
      "outputs": []
    },
    {
      "cell_type": "code",
      "source": [
        "keys_neg = cor[\"class\"].sort_values(ascending=True).keys()[0:5]\n",
        "keys_pos = cor[\"class\"].sort_values(ascending=False).keys()[0:6]"
      ],
      "metadata": {
        "id": "YBbvfncDVK-F"
      },
      "execution_count": null,
      "outputs": []
    },
    {
      "cell_type": "code",
      "source": [
        "keys_neg"
      ],
      "metadata": {
        "id": "e3UImb_IbgOZ"
      },
      "execution_count": null,
      "outputs": []
    },
    {
      "cell_type": "code",
      "source": [
        "cor_filtered = cor[[*keys_pos,*keys_neg]].loc[[*keys_neg,*keys_pos]]\n",
        "cor_filtered"
      ],
      "metadata": {
        "id": "I5wtSnraeQ_M"
      },
      "execution_count": null,
      "outputs": []
    },
    {
      "cell_type": "code",
      "source": [
        "cor_filtered.shape"
      ],
      "metadata": {
        "id": "c1jGKrAqey8j"
      },
      "execution_count": null,
      "outputs": []
    },
    {
      "cell_type": "code",
      "source": [
        "a = list(cor_filtered.columns)\n",
        "a.sort(reverse=True)\n",
        "a.remove('class')\n",
        "a.append('class')\n",
        "a.reverse()\n",
        "a"
      ],
      "metadata": {
        "id": "ox07kvd2gLA1"
      },
      "execution_count": null,
      "outputs": []
    },
    {
      "cell_type": "code",
      "source": [
        "cor_filtered = cor_filtered.loc[a]\n",
        "cor_filtered = cor_filtered[a]"
      ],
      "metadata": {
        "id": "23dSYkJUhbiv"
      },
      "execution_count": null,
      "outputs": []
    },
    {
      "cell_type": "code",
      "source": [
        "cor_filtered"
      ],
      "metadata": {
        "id": "WVJP2pmthT2s"
      },
      "execution_count": null,
      "outputs": []
    },
    {
      "cell_type": "code",
      "source": [
        "import matplotlib.pyplot as plt\n",
        "import seaborn as sns\n",
        "import numpy as np"
      ],
      "metadata": {
        "id": "qo-Xl_jeQlqH"
      },
      "execution_count": null,
      "outputs": []
    },
    {
      "cell_type": "markdown",
      "source": [
        "Some variables show high correlation to others, such as bb_000, bu_000, bv_000... This phenomenon can impact negatively the analysis and the final model in case where the data is redundant."
      ],
      "metadata": {
        "id": "_2bMQxcuQSDf"
      }
    },
    {
      "cell_type": "code",
      "source": [
        "# Plotting the correlation plot\n",
        "plt.figure(figsize=(10, 8))\n",
        "\n",
        "# Create a mask to hide the upper triangle\n",
        "mask = np.triu(np.ones_like(cor_filtered, dtype=bool))\n",
        "sns.heatmap(cor_filtered, mask=mask, annot=True, cmap='coolwarm', vmin=-1, vmax=1)\n",
        "plt.title('Correlation Matrix')\n",
        "plt.show()"
      ],
      "metadata": {
        "id": "g9LkCD1TGVCS"
      },
      "execution_count": null,
      "outputs": []
    },
    {
      "cell_type": "code",
      "source": [
        "sns.color_palette(\"coolwarm\", as_cmap=True).get_over()"
      ],
      "metadata": {
        "id": "jJiZzPGlQFNn"
      },
      "execution_count": null,
      "outputs": []
    },
    {
      "cell_type": "code",
      "source": [
        "cor_variables = [['class','cq_000'],['class','ci_000'],['class','br_000'],['class','bq_000'],\n",
        "                 ['bb_000','ci_000'],['bb_000','br_000'],['bn_000','bo_000'],['bn_000','ci_000'],\n",
        "                 ['bu_000','ci_000'],['bu_000','bv_000'],['br_000','cq_000'],['br_000','ci_000']]"
      ],
      "metadata": {
        "id": "9NSKEEM6ODhd"
      },
      "execution_count": null,
      "outputs": []
    },
    {
      "cell_type": "code",
      "source": [
        "fig, axes = plt.subplots(3, 4, figsize=(20, 15))\n",
        "\n",
        "\n",
        "colours = [[0.2298057, 0.29871797, 0.75368315, 1.],[0.70567316, 0.01555616, 0.15023281, 1.]]\n",
        "# Flatten the axes array for easy iteration\n",
        "axes = axes.flatten()\n",
        "\n",
        "# Generate 12 scatter plots\n",
        "for i in range(12):\n",
        "    sns.scatterplot(data=df_train, x=cor_variables[i][0], y=cor_variables[i][1], hue=\"class\", ax=axes[i], palette=colours)\n",
        "    axes[i].set_title(f'Scatter Plot {i+1}: {cor_variables[i][0]} x {cor_variables[i][1]}')\n",
        "\n",
        "plt.tight_layout()\n",
        "plt.show()"
      ],
      "metadata": {
        "colab": {
          "base_uri": "https://localhost:8080/",
          "height": 1000
        },
        "id": "mNOaYZV1Nve8",
        "outputId": "f1a3bd7f-17f5-41a9-abf2-c082ca106632"
      },
      "execution_count": 116,
      "outputs": [
        {
          "ename": "ValueError",
          "evalue": "Could not interpret value `br_000` for `y`. An entry with this name does not appear in `data`.",
          "output_type": "error",
          "traceback": [
            "\u001b[0;31m---------------------------------------------------------------------------\u001b[0m",
            "\u001b[0;31mValueError\u001b[0m                                Traceback (most recent call last)",
            "\u001b[0;32m<ipython-input-116-5c3da372aa8b>\u001b[0m in \u001b[0;36m<cell line: 9>\u001b[0;34m()\u001b[0m\n\u001b[1;32m      8\u001b[0m \u001b[0;31m# Generate 12 scatter plots\u001b[0m\u001b[0;34m\u001b[0m\u001b[0;34m\u001b[0m\u001b[0m\n\u001b[1;32m      9\u001b[0m \u001b[0;32mfor\u001b[0m \u001b[0mi\u001b[0m \u001b[0;32min\u001b[0m \u001b[0mrange\u001b[0m\u001b[0;34m(\u001b[0m\u001b[0;36m12\u001b[0m\u001b[0;34m)\u001b[0m\u001b[0;34m:\u001b[0m\u001b[0;34m\u001b[0m\u001b[0;34m\u001b[0m\u001b[0m\n\u001b[0;32m---> 10\u001b[0;31m     \u001b[0msns\u001b[0m\u001b[0;34m.\u001b[0m\u001b[0mscatterplot\u001b[0m\u001b[0;34m(\u001b[0m\u001b[0mdata\u001b[0m\u001b[0;34m=\u001b[0m\u001b[0mdf_train\u001b[0m\u001b[0;34m,\u001b[0m \u001b[0mx\u001b[0m\u001b[0;34m=\u001b[0m\u001b[0mcor_variables\u001b[0m\u001b[0;34m[\u001b[0m\u001b[0mi\u001b[0m\u001b[0;34m]\u001b[0m\u001b[0;34m[\u001b[0m\u001b[0;36m0\u001b[0m\u001b[0;34m]\u001b[0m\u001b[0;34m,\u001b[0m \u001b[0my\u001b[0m\u001b[0;34m=\u001b[0m\u001b[0mcor_variables\u001b[0m\u001b[0;34m[\u001b[0m\u001b[0mi\u001b[0m\u001b[0;34m]\u001b[0m\u001b[0;34m[\u001b[0m\u001b[0;36m1\u001b[0m\u001b[0;34m]\u001b[0m\u001b[0;34m,\u001b[0m \u001b[0mhue\u001b[0m\u001b[0;34m=\u001b[0m\u001b[0;34m\"class\"\u001b[0m\u001b[0;34m,\u001b[0m \u001b[0max\u001b[0m\u001b[0;34m=\u001b[0m\u001b[0maxes\u001b[0m\u001b[0;34m[\u001b[0m\u001b[0mi\u001b[0m\u001b[0;34m]\u001b[0m\u001b[0;34m,\u001b[0m \u001b[0mpalette\u001b[0m\u001b[0;34m=\u001b[0m\u001b[0mcolours\u001b[0m\u001b[0;34m)\u001b[0m\u001b[0;34m\u001b[0m\u001b[0;34m\u001b[0m\u001b[0m\n\u001b[0m\u001b[1;32m     11\u001b[0m     \u001b[0maxes\u001b[0m\u001b[0;34m[\u001b[0m\u001b[0mi\u001b[0m\u001b[0;34m]\u001b[0m\u001b[0;34m.\u001b[0m\u001b[0mset_title\u001b[0m\u001b[0;34m(\u001b[0m\u001b[0;34mf'Scatter Plot {i+1}: {cor_variables[i][0]} x {cor_variables[i][1]}'\u001b[0m\u001b[0;34m)\u001b[0m\u001b[0;34m\u001b[0m\u001b[0;34m\u001b[0m\u001b[0m\n\u001b[1;32m     12\u001b[0m \u001b[0;34m\u001b[0m\u001b[0m\n",
            "\u001b[0;32m/usr/local/lib/python3.10/dist-packages/seaborn/relational.py\u001b[0m in \u001b[0;36mscatterplot\u001b[0;34m(data, x, y, hue, size, style, palette, hue_order, hue_norm, sizes, size_order, size_norm, markers, style_order, legend, ax, **kwargs)\u001b[0m\n\u001b[1;32m    608\u001b[0m ):\n\u001b[1;32m    609\u001b[0m \u001b[0;34m\u001b[0m\u001b[0m\n\u001b[0;32m--> 610\u001b[0;31m     p = _ScatterPlotter(\n\u001b[0m\u001b[1;32m    611\u001b[0m         \u001b[0mdata\u001b[0m\u001b[0;34m=\u001b[0m\u001b[0mdata\u001b[0m\u001b[0;34m,\u001b[0m\u001b[0;34m\u001b[0m\u001b[0;34m\u001b[0m\u001b[0m\n\u001b[1;32m    612\u001b[0m         \u001b[0mvariables\u001b[0m\u001b[0;34m=\u001b[0m\u001b[0mdict\u001b[0m\u001b[0;34m(\u001b[0m\u001b[0mx\u001b[0m\u001b[0;34m=\u001b[0m\u001b[0mx\u001b[0m\u001b[0;34m,\u001b[0m \u001b[0my\u001b[0m\u001b[0;34m=\u001b[0m\u001b[0my\u001b[0m\u001b[0;34m,\u001b[0m \u001b[0mhue\u001b[0m\u001b[0;34m=\u001b[0m\u001b[0mhue\u001b[0m\u001b[0;34m,\u001b[0m \u001b[0msize\u001b[0m\u001b[0;34m=\u001b[0m\u001b[0msize\u001b[0m\u001b[0;34m,\u001b[0m \u001b[0mstyle\u001b[0m\u001b[0;34m=\u001b[0m\u001b[0mstyle\u001b[0m\u001b[0;34m)\u001b[0m\u001b[0;34m,\u001b[0m\u001b[0;34m\u001b[0m\u001b[0;34m\u001b[0m\u001b[0m\n",
            "\u001b[0;32m/usr/local/lib/python3.10/dist-packages/seaborn/relational.py\u001b[0m in \u001b[0;36m__init__\u001b[0;34m(self, data, variables, legend)\u001b[0m\n\u001b[1;32m    389\u001b[0m         )\n\u001b[1;32m    390\u001b[0m \u001b[0;34m\u001b[0m\u001b[0m\n\u001b[0;32m--> 391\u001b[0;31m         \u001b[0msuper\u001b[0m\u001b[0;34m(\u001b[0m\u001b[0;34m)\u001b[0m\u001b[0;34m.\u001b[0m\u001b[0m__init__\u001b[0m\u001b[0;34m(\u001b[0m\u001b[0mdata\u001b[0m\u001b[0;34m=\u001b[0m\u001b[0mdata\u001b[0m\u001b[0;34m,\u001b[0m \u001b[0mvariables\u001b[0m\u001b[0;34m=\u001b[0m\u001b[0mvariables\u001b[0m\u001b[0;34m)\u001b[0m\u001b[0;34m\u001b[0m\u001b[0;34m\u001b[0m\u001b[0m\n\u001b[0m\u001b[1;32m    392\u001b[0m \u001b[0;34m\u001b[0m\u001b[0m\n\u001b[1;32m    393\u001b[0m         \u001b[0mself\u001b[0m\u001b[0;34m.\u001b[0m\u001b[0mlegend\u001b[0m \u001b[0;34m=\u001b[0m \u001b[0mlegend\u001b[0m\u001b[0;34m\u001b[0m\u001b[0;34m\u001b[0m\u001b[0m\n",
            "\u001b[0;32m/usr/local/lib/python3.10/dist-packages/seaborn/_base.py\u001b[0m in \u001b[0;36m__init__\u001b[0;34m(self, data, variables)\u001b[0m\n\u001b[1;32m    632\u001b[0m         \u001b[0;31m# information for numeric axes would be information about log scales.\u001b[0m\u001b[0;34m\u001b[0m\u001b[0;34m\u001b[0m\u001b[0m\n\u001b[1;32m    633\u001b[0m         \u001b[0mself\u001b[0m\u001b[0;34m.\u001b[0m\u001b[0m_var_ordered\u001b[0m \u001b[0;34m=\u001b[0m \u001b[0;34m{\u001b[0m\u001b[0;34m\"x\"\u001b[0m\u001b[0;34m:\u001b[0m \u001b[0;32mFalse\u001b[0m\u001b[0;34m,\u001b[0m \u001b[0;34m\"y\"\u001b[0m\u001b[0;34m:\u001b[0m \u001b[0;32mFalse\u001b[0m\u001b[0;34m}\u001b[0m  \u001b[0;31m# alt., used DefaultDict\u001b[0m\u001b[0;34m\u001b[0m\u001b[0;34m\u001b[0m\u001b[0m\n\u001b[0;32m--> 634\u001b[0;31m         \u001b[0mself\u001b[0m\u001b[0;34m.\u001b[0m\u001b[0massign_variables\u001b[0m\u001b[0;34m(\u001b[0m\u001b[0mdata\u001b[0m\u001b[0;34m,\u001b[0m \u001b[0mvariables\u001b[0m\u001b[0;34m)\u001b[0m\u001b[0;34m\u001b[0m\u001b[0;34m\u001b[0m\u001b[0m\n\u001b[0m\u001b[1;32m    635\u001b[0m \u001b[0;34m\u001b[0m\u001b[0m\n\u001b[1;32m    636\u001b[0m         \u001b[0;31m# TODO Lots of tests assume that these are called to initialize the\u001b[0m\u001b[0;34m\u001b[0m\u001b[0;34m\u001b[0m\u001b[0m\n",
            "\u001b[0;32m/usr/local/lib/python3.10/dist-packages/seaborn/_base.py\u001b[0m in \u001b[0;36massign_variables\u001b[0;34m(self, data, variables)\u001b[0m\n\u001b[1;32m    677\u001b[0m             \u001b[0;31m# to centralize / standardize data consumption logic.\u001b[0m\u001b[0;34m\u001b[0m\u001b[0;34m\u001b[0m\u001b[0m\n\u001b[1;32m    678\u001b[0m             \u001b[0mself\u001b[0m\u001b[0;34m.\u001b[0m\u001b[0minput_format\u001b[0m \u001b[0;34m=\u001b[0m \u001b[0;34m\"long\"\u001b[0m\u001b[0;34m\u001b[0m\u001b[0;34m\u001b[0m\u001b[0m\n\u001b[0;32m--> 679\u001b[0;31m             \u001b[0mplot_data\u001b[0m \u001b[0;34m=\u001b[0m \u001b[0mPlotData\u001b[0m\u001b[0;34m(\u001b[0m\u001b[0mdata\u001b[0m\u001b[0;34m,\u001b[0m \u001b[0mvariables\u001b[0m\u001b[0;34m)\u001b[0m\u001b[0;34m\u001b[0m\u001b[0;34m\u001b[0m\u001b[0m\n\u001b[0m\u001b[1;32m    680\u001b[0m             \u001b[0mframe\u001b[0m \u001b[0;34m=\u001b[0m \u001b[0mplot_data\u001b[0m\u001b[0;34m.\u001b[0m\u001b[0mframe\u001b[0m\u001b[0;34m\u001b[0m\u001b[0;34m\u001b[0m\u001b[0m\n\u001b[1;32m    681\u001b[0m             \u001b[0mnames\u001b[0m \u001b[0;34m=\u001b[0m \u001b[0mplot_data\u001b[0m\u001b[0;34m.\u001b[0m\u001b[0mnames\u001b[0m\u001b[0;34m\u001b[0m\u001b[0;34m\u001b[0m\u001b[0m\n",
            "\u001b[0;32m/usr/local/lib/python3.10/dist-packages/seaborn/_core/data.py\u001b[0m in \u001b[0;36m__init__\u001b[0;34m(self, data, variables)\u001b[0m\n\u001b[1;32m     56\u001b[0m \u001b[0;34m\u001b[0m\u001b[0m\n\u001b[1;32m     57\u001b[0m         \u001b[0mdata\u001b[0m \u001b[0;34m=\u001b[0m \u001b[0mhandle_data_source\u001b[0m\u001b[0;34m(\u001b[0m\u001b[0mdata\u001b[0m\u001b[0;34m)\u001b[0m\u001b[0;34m\u001b[0m\u001b[0;34m\u001b[0m\u001b[0m\n\u001b[0;32m---> 58\u001b[0;31m         \u001b[0mframe\u001b[0m\u001b[0;34m,\u001b[0m \u001b[0mnames\u001b[0m\u001b[0;34m,\u001b[0m \u001b[0mids\u001b[0m \u001b[0;34m=\u001b[0m \u001b[0mself\u001b[0m\u001b[0;34m.\u001b[0m\u001b[0m_assign_variables\u001b[0m\u001b[0;34m(\u001b[0m\u001b[0mdata\u001b[0m\u001b[0;34m,\u001b[0m \u001b[0mvariables\u001b[0m\u001b[0;34m)\u001b[0m\u001b[0;34m\u001b[0m\u001b[0;34m\u001b[0m\u001b[0m\n\u001b[0m\u001b[1;32m     59\u001b[0m \u001b[0;34m\u001b[0m\u001b[0m\n\u001b[1;32m     60\u001b[0m         \u001b[0mself\u001b[0m\u001b[0;34m.\u001b[0m\u001b[0mframe\u001b[0m \u001b[0;34m=\u001b[0m \u001b[0mframe\u001b[0m\u001b[0;34m\u001b[0m\u001b[0;34m\u001b[0m\u001b[0m\n",
            "\u001b[0;32m/usr/local/lib/python3.10/dist-packages/seaborn/_core/data.py\u001b[0m in \u001b[0;36m_assign_variables\u001b[0;34m(self, data, variables)\u001b[0m\n\u001b[1;32m    230\u001b[0m                 \u001b[0;32melse\u001b[0m\u001b[0;34m:\u001b[0m\u001b[0;34m\u001b[0m\u001b[0;34m\u001b[0m\u001b[0m\n\u001b[1;32m    231\u001b[0m                     \u001b[0merr\u001b[0m \u001b[0;34m+=\u001b[0m \u001b[0;34m\"An entry with this name does not appear in `data`.\"\u001b[0m\u001b[0;34m\u001b[0m\u001b[0;34m\u001b[0m\u001b[0m\n\u001b[0;32m--> 232\u001b[0;31m                 \u001b[0;32mraise\u001b[0m \u001b[0mValueError\u001b[0m\u001b[0;34m(\u001b[0m\u001b[0merr\u001b[0m\u001b[0;34m)\u001b[0m\u001b[0;34m\u001b[0m\u001b[0;34m\u001b[0m\u001b[0m\n\u001b[0m\u001b[1;32m    233\u001b[0m \u001b[0;34m\u001b[0m\u001b[0m\n\u001b[1;32m    234\u001b[0m             \u001b[0;32melse\u001b[0m\u001b[0;34m:\u001b[0m\u001b[0;34m\u001b[0m\u001b[0;34m\u001b[0m\u001b[0m\n",
            "\u001b[0;31mValueError\u001b[0m: Could not interpret value `br_000` for `y`. An entry with this name does not appear in `data`."
          ]
        },
        {
          "data": {
            "image/png": "[encoded data removed]",
            "text/plain": [
              "<Figure size 2000x1500 with 12 Axes>"
            ]
          },
          "metadata": {},
          "output_type": "display_data"
        }
      ]
    },
    {
      "cell_type": "code",
      "source": [
        "for col in df_train.columns:\n",
        "    pos_nan = df_train[df_train[\"class\"]==1][col].isna().sum()\n",
        "    neg_nan = df_train[df_train[\"class\"]==0][col].isna().sum()\n",
        "    if (pos_nan+neg_nan) > 0.2*(len(df_train)):\n",
        "        df_train =  df_train.drop(columns=[col])\n",
        "        df_test=  df_test.drop(columns=[col])\n",
        "        print(f\"Dropping column {col}\")\n",
        "    print(f\"NaN values for column {col}. Total NaN values: {pos_nan+neg_nan}\")\n",
        "    print(f\"Positive class: {pos_nan} missing values\")\n",
        "    print(f\"Negative class: {neg_nan} missing values\\n\")"
      ],
      "metadata": {
        "colab": {
          "base_uri": "https://localhost:8080/"
        },
        "collapsed": true,
        "id": "nBEixDOyn9dh",
        "outputId": "376c9221-388c-4d88-ee23-55c08903aecc"
      },
      "execution_count": null,
      "outputs": [
        {
          "output_type": "stream",
          "name": "stdout",
          "text": [
            "NaN values for column class. Total NaN values: 0\n",
            "Positive class: 0 missing values\n",
            "Negative class: 0 missing values\n",
            "\n",
            "NaN values for column aa_000. Total NaN values: 0\n",
            "Positive class: 0 missing values\n",
            "Negative class: 0 missing values\n",
            "\n",
            "Dropping column ab_000\n",
            "NaN values for column ab_000. Total NaN values: 46329\n",
            "Positive class: 771 missing values\n",
            "Negative class: 45558 missing values\n",
            "\n",
            "NaN values for column ac_000. Total NaN values: 3335\n",
            "Positive class: 462 missing values\n",
            "Negative class: 2873 missing values\n",
            "\n",
            "Dropping column ad_000\n",
            "NaN values for column ad_000. Total NaN values: 14861\n",
            "Positive class: 645 missing values\n",
            "Negative class: 14216 missing values\n",
            "\n",
            "NaN values for column ae_000. Total NaN values: 2500\n",
            "Positive class: 341 missing values\n",
            "Negative class: 2159 missing values\n",
            "\n",
            "NaN values for column af_000. Total NaN values: 2500\n",
            "Positive class: 341 missing values\n",
            "Negative class: 2159 missing values\n",
            "\n",
            "NaN values for column ag_000. Total NaN values: 671\n",
            "Positive class: 4 missing values\n",
            "Negative class: 667 missing values\n",
            "\n",
            "NaN values for column ag_001. Total NaN values: 671\n",
            "Positive class: 4 missing values\n",
            "Negative class: 667 missing values\n",
            "\n",
            "NaN values for column ag_002. Total NaN values: 671\n",
            "Positive class: 4 missing values\n",
            "Negative class: 667 missing values\n",
            "\n",
            "NaN values for column ag_003. Total NaN values: 671\n",
            "Positive class: 4 missing values\n",
            "Negative class: 667 missing values\n",
            "\n",
            "NaN values for column ag_004. Total NaN values: 671\n",
            "Positive class: 4 missing values\n",
            "Negative class: 667 missing values\n",
            "\n",
            "NaN values for column ag_005. Total NaN values: 671\n",
            "Positive class: 4 missing values\n",
            "Negative class: 667 missing values\n",
            "\n",
            "NaN values for column ag_006. Total NaN values: 671\n",
            "Positive class: 4 missing values\n",
            "Negative class: 667 missing values\n",
            "\n",
            "NaN values for column ag_007. Total NaN values: 671\n",
            "Positive class: 4 missing values\n",
            "Negative class: 667 missing values\n",
            "\n",
            "NaN values for column ag_008. Total NaN values: 671\n",
            "Positive class: 4 missing values\n",
            "Negative class: 667 missing values\n",
            "\n",
            "NaN values for column ag_009. Total NaN values: 671\n",
            "Positive class: 4 missing values\n",
            "Negative class: 667 missing values\n",
            "\n",
            "NaN values for column ah_000. Total NaN values: 645\n",
            "Positive class: 41 missing values\n",
            "Negative class: 604 missing values\n",
            "\n",
            "NaN values for column ai_000. Total NaN values: 629\n",
            "Positive class: 42 missing values\n",
            "Negative class: 587 missing values\n",
            "\n",
            "NaN values for column aj_000. Total NaN values: 629\n",
            "Positive class: 42 missing values\n",
            "Negative class: 587 missing values\n",
            "\n",
            "NaN values for column ak_000. Total NaN values: 4400\n",
            "Positive class: 532 missing values\n",
            "Negative class: 3868 missing values\n",
            "\n",
            "NaN values for column al_000. Total NaN values: 642\n",
            "Positive class: 43 missing values\n",
            "Negative class: 599 missing values\n",
            "\n",
            "NaN values for column am_0. Total NaN values: 629\n",
            "Positive class: 42 missing values\n",
            "Negative class: 587 missing values\n",
            "\n",
            "NaN values for column an_000. Total NaN values: 642\n",
            "Positive class: 43 missing values\n",
            "Negative class: 599 missing values\n",
            "\n",
            "NaN values for column ao_000. Total NaN values: 589\n",
            "Positive class: 40 missing values\n",
            "Negative class: 549 missing values\n",
            "\n",
            "NaN values for column ap_000. Total NaN values: 642\n",
            "Positive class: 43 missing values\n",
            "Negative class: 599 missing values\n",
            "\n",
            "NaN values for column aq_000. Total NaN values: 589\n",
            "Positive class: 40 missing values\n",
            "Negative class: 549 missing values\n",
            "\n",
            "NaN values for column ar_000. Total NaN values: 2723\n",
            "Positive class: 377 missing values\n",
            "Negative class: 2346 missing values\n",
            "\n",
            "NaN values for column as_000. Total NaN values: 629\n",
            "Positive class: 42 missing values\n",
            "Negative class: 587 missing values\n",
            "\n",
            "NaN values for column at_000. Total NaN values: 629\n",
            "Positive class: 42 missing values\n",
            "Negative class: 587 missing values\n",
            "\n",
            "NaN values for column au_000. Total NaN values: 629\n",
            "Positive class: 42 missing values\n",
            "Negative class: 587 missing values\n",
            "\n",
            "NaN values for column av_000. Total NaN values: 2500\n",
            "Positive class: 341 missing values\n",
            "Negative class: 2159 missing values\n",
            "\n",
            "NaN values for column ax_000. Total NaN values: 2501\n",
            "Positive class: 341 missing values\n",
            "Negative class: 2160 missing values\n",
            "\n",
            "NaN values for column ay_000. Total NaN values: 671\n",
            "Positive class: 5 missing values\n",
            "Negative class: 666 missing values\n",
            "\n",
            "NaN values for column ay_001. Total NaN values: 671\n",
            "Positive class: 5 missing values\n",
            "Negative class: 666 missing values\n",
            "\n",
            "NaN values for column ay_002. Total NaN values: 671\n",
            "Positive class: 5 missing values\n",
            "Negative class: 666 missing values\n",
            "\n",
            "NaN values for column ay_003. Total NaN values: 671\n",
            "Positive class: 5 missing values\n",
            "Negative class: 666 missing values\n",
            "\n",
            "NaN values for column ay_004. Total NaN values: 671\n",
            "Positive class: 5 missing values\n",
            "Negative class: 666 missing values\n",
            "\n",
            "NaN values for column ay_005. Total NaN values: 671\n",
            "Positive class: 5 missing values\n",
            "Negative class: 666 missing values\n",
            "\n",
            "NaN values for column ay_006. Total NaN values: 671\n",
            "Positive class: 5 missing values\n",
            "Negative class: 666 missing values\n",
            "\n",
            "NaN values for column ay_007. Total NaN values: 671\n",
            "Positive class: 5 missing values\n",
            "Negative class: 666 missing values\n",
            "\n",
            "NaN values for column ay_008. Total NaN values: 671\n",
            "Positive class: 5 missing values\n",
            "Negative class: 666 missing values\n",
            "\n",
            "NaN values for column ay_009. Total NaN values: 671\n",
            "Positive class: 5 missing values\n",
            "Negative class: 666 missing values\n",
            "\n",
            "NaN values for column az_000. Total NaN values: 671\n",
            "Positive class: 5 missing values\n",
            "Negative class: 666 missing values\n",
            "\n",
            "NaN values for column az_001. Total NaN values: 671\n",
            "Positive class: 5 missing values\n",
            "Negative class: 666 missing values\n",
            "\n",
            "NaN values for column az_002. Total NaN values: 671\n",
            "Positive class: 5 missing values\n",
            "Negative class: 666 missing values\n",
            "\n",
            "NaN values for column az_003. Total NaN values: 671\n",
            "Positive class: 5 missing values\n",
            "Negative class: 666 missing values\n",
            "\n",
            "NaN values for column az_004. Total NaN values: 671\n",
            "Positive class: 5 missing values\n",
            "Negative class: 666 missing values\n",
            "\n",
            "NaN values for column az_005. Total NaN values: 671\n",
            "Positive class: 5 missing values\n",
            "Negative class: 666 missing values\n",
            "\n",
            "NaN values for column az_006. Total NaN values: 671\n",
            "Positive class: 5 missing values\n",
            "Negative class: 666 missing values\n",
            "\n",
            "NaN values for column az_007. Total NaN values: 671\n",
            "Positive class: 5 missing values\n",
            "Negative class: 666 missing values\n",
            "\n",
            "NaN values for column az_008. Total NaN values: 671\n",
            "Positive class: 5 missing values\n",
            "Negative class: 666 missing values\n",
            "\n",
            "NaN values for column az_009. Total NaN values: 671\n",
            "Positive class: 5 missing values\n",
            "Negative class: 666 missing values\n",
            "\n",
            "NaN values for column ba_000. Total NaN values: 688\n",
            "Positive class: 4 missing values\n",
            "Negative class: 684 missing values\n",
            "\n",
            "NaN values for column ba_001. Total NaN values: 688\n",
            "Positive class: 4 missing values\n",
            "Negative class: 684 missing values\n",
            "\n",
            "NaN values for column ba_002. Total NaN values: 688\n",
            "Positive class: 4 missing values\n",
            "Negative class: 684 missing values\n",
            "\n",
            "NaN values for column ba_003. Total NaN values: 688\n",
            "Positive class: 4 missing values\n",
            "Negative class: 684 missing values\n",
            "\n",
            "NaN values for column ba_004. Total NaN values: 688\n",
            "Positive class: 4 missing values\n",
            "Negative class: 684 missing values\n",
            "\n",
            "NaN values for column ba_005. Total NaN values: 688\n",
            "Positive class: 4 missing values\n",
            "Negative class: 684 missing values\n",
            "\n",
            "NaN values for column ba_006. Total NaN values: 688\n",
            "Positive class: 4 missing values\n",
            "Negative class: 684 missing values\n",
            "\n",
            "NaN values for column ba_007. Total NaN values: 688\n",
            "Positive class: 4 missing values\n",
            "Negative class: 684 missing values\n",
            "\n",
            "NaN values for column ba_008. Total NaN values: 688\n",
            "Positive class: 4 missing values\n",
            "Negative class: 684 missing values\n",
            "\n",
            "NaN values for column ba_009. Total NaN values: 688\n",
            "Positive class: 4 missing values\n",
            "Negative class: 684 missing values\n",
            "\n",
            "NaN values for column bb_000. Total NaN values: 645\n",
            "Positive class: 41 missing values\n",
            "Negative class: 604 missing values\n",
            "\n",
            "NaN values for column bc_000. Total NaN values: 2725\n",
            "Positive class: 377 missing values\n",
            "Negative class: 2348 missing values\n",
            "\n",
            "NaN values for column bd_000. Total NaN values: 2727\n",
            "Positive class: 377 missing values\n",
            "Negative class: 2350 missing values\n",
            "\n",
            "NaN values for column be_000. Total NaN values: 2503\n",
            "Positive class: 341 missing values\n",
            "Negative class: 2162 missing values\n",
            "\n",
            "NaN values for column bf_000. Total NaN values: 2500\n",
            "Positive class: 341 missing values\n",
            "Negative class: 2159 missing values\n",
            "\n",
            "NaN values for column bg_000. Total NaN values: 642\n",
            "Positive class: 43 missing values\n",
            "Negative class: 599 missing values\n",
            "\n",
            "NaN values for column bh_000. Total NaN values: 642\n",
            "Positive class: 43 missing values\n",
            "Negative class: 599 missing values\n",
            "\n",
            "NaN values for column bi_000. Total NaN values: 589\n",
            "Positive class: 40 missing values\n",
            "Negative class: 549 missing values\n",
            "\n",
            "NaN values for column bj_000. Total NaN values: 589\n",
            "Positive class: 40 missing values\n",
            "Negative class: 549 missing values\n",
            "\n",
            "Dropping column bk_000\n",
            "NaN values for column bk_000. Total NaN values: 23034\n",
            "Positive class: 64 missing values\n",
            "Negative class: 22970 missing values\n",
            "\n",
            "Dropping column bl_000\n",
            "NaN values for column bl_000. Total NaN values: 27277\n",
            "Positive class: 67 missing values\n",
            "Negative class: 27210 missing values\n",
            "\n",
            "Dropping column bm_000\n",
            "NaN values for column bm_000. Total NaN values: 39549\n",
            "Positive class: 71 missing values\n",
            "Negative class: 39478 missing values\n",
            "\n",
            "Dropping column bn_000\n",
            "NaN values for column bn_000. Total NaN values: 44009\n",
            "Positive class: 74 missing values\n",
            "Negative class: 43935 missing values\n",
            "\n",
            "Dropping column bo_000\n",
            "NaN values for column bo_000. Total NaN values: 46333\n",
            "Positive class: 78 missing values\n",
            "Negative class: 46255 missing values\n",
            "\n",
            "Dropping column bp_000\n",
            "NaN values for column bp_000. Total NaN values: 47740\n",
            "Positive class: 83 missing values\n",
            "Negative class: 47657 missing values\n",
            "\n",
            "Dropping column bq_000\n",
            "NaN values for column bq_000. Total NaN values: 48722\n",
            "Positive class: 87 missing values\n",
            "Negative class: 48635 missing values\n",
            "\n",
            "Dropping column br_000\n",
            "NaN values for column br_000. Total NaN values: 49264\n",
            "Positive class: 90 missing values\n",
            "Negative class: 49174 missing values\n",
            "\n",
            "NaN values for column bs_000. Total NaN values: 726\n",
            "Positive class: 45 missing values\n",
            "Negative class: 681 missing values\n",
            "\n",
            "NaN values for column bt_000. Total NaN values: 167\n",
            "Positive class: 11 missing values\n",
            "Negative class: 156 missing values\n",
            "\n",
            "NaN values for column bu_000. Total NaN values: 691\n",
            "Positive class: 42 missing values\n",
            "Negative class: 649 missing values\n",
            "\n",
            "NaN values for column bv_000. Total NaN values: 691\n",
            "Positive class: 42 missing values\n",
            "Negative class: 649 missing values\n",
            "\n",
            "NaN values for column bx_000. Total NaN values: 3257\n",
            "Positive class: 27 missing values\n",
            "Negative class: 3230 missing values\n",
            "\n",
            "NaN values for column by_000. Total NaN values: 473\n",
            "Positive class: 1 missing values\n",
            "Negative class: 472 missing values\n",
            "\n",
            "NaN values for column bz_000. Total NaN values: 2723\n",
            "Positive class: 377 missing values\n",
            "Negative class: 2346 missing values\n",
            "\n",
            "NaN values for column ca_000. Total NaN values: 4356\n",
            "Positive class: 530 missing values\n",
            "Negative class: 3826 missing values\n",
            "\n",
            "NaN values for column cb_000. Total NaN values: 726\n",
            "Positive class: 45 missing values\n",
            "Negative class: 681 missing values\n",
            "\n",
            "NaN values for column cc_000. Total NaN values: 3255\n",
            "Positive class: 27 missing values\n",
            "Negative class: 3228 missing values\n",
            "\n",
            "NaN values for column cd_000. Total NaN values: 676\n",
            "Positive class: 43 missing values\n",
            "Negative class: 633 missing values\n",
            "\n",
            "NaN values for column ce_000. Total NaN values: 2502\n",
            "Positive class: 341 missing values\n",
            "Negative class: 2161 missing values\n",
            "\n",
            "Dropping column cf_000\n",
            "NaN values for column cf_000. Total NaN values: 14861\n",
            "Positive class: 645 missing values\n",
            "Negative class: 14216 missing values\n",
            "\n",
            "Dropping column cg_000\n",
            "NaN values for column cg_000. Total NaN values: 14861\n",
            "Positive class: 645 missing values\n",
            "Negative class: 14216 missing values\n",
            "\n",
            "Dropping column ch_000\n",
            "NaN values for column ch_000. Total NaN values: 14861\n",
            "Positive class: 645 missing values\n",
            "Negative class: 14216 missing values\n",
            "\n",
            "NaN values for column ci_000. Total NaN values: 338\n",
            "Positive class: 10 missing values\n",
            "Negative class: 328 missing values\n",
            "\n",
            "NaN values for column cj_000. Total NaN values: 338\n",
            "Positive class: 10 missing values\n",
            "Negative class: 328 missing values\n",
            "\n",
            "NaN values for column ck_000. Total NaN values: 338\n",
            "Positive class: 10 missing values\n",
            "Negative class: 328 missing values\n",
            "\n",
            "NaN values for column cl_000. Total NaN values: 9553\n",
            "Positive class: 228 missing values\n",
            "Negative class: 9325 missing values\n",
            "\n",
            "NaN values for column cm_000. Total NaN values: 9877\n",
            "Positive class: 290 missing values\n",
            "Negative class: 9587 missing values\n",
            "\n",
            "NaN values for column cn_000. Total NaN values: 687\n",
            "Positive class: 4 missing values\n",
            "Negative class: 683 missing values\n",
            "\n",
            "NaN values for column cn_001. Total NaN values: 687\n",
            "Positive class: 4 missing values\n",
            "Negative class: 683 missing values\n",
            "\n",
            "NaN values for column cn_002. Total NaN values: 687\n",
            "Positive class: 4 missing values\n",
            "Negative class: 683 missing values\n",
            "\n",
            "NaN values for column cn_003. Total NaN values: 687\n",
            "Positive class: 4 missing values\n",
            "Negative class: 683 missing values\n",
            "\n",
            "NaN values for column cn_004. Total NaN values: 687\n",
            "Positive class: 4 missing values\n",
            "Negative class: 683 missing values\n",
            "\n",
            "NaN values for column cn_005. Total NaN values: 687\n",
            "Positive class: 4 missing values\n",
            "Negative class: 683 missing values\n",
            "\n",
            "NaN values for column cn_006. Total NaN values: 687\n",
            "Positive class: 4 missing values\n",
            "Negative class: 683 missing values\n",
            "\n",
            "NaN values for column cn_007. Total NaN values: 687\n",
            "Positive class: 4 missing values\n",
            "Negative class: 683 missing values\n",
            "\n",
            "NaN values for column cn_008. Total NaN values: 687\n",
            "Positive class: 4 missing values\n",
            "Negative class: 683 missing values\n",
            "\n",
            "NaN values for column cn_009. Total NaN values: 687\n",
            "Positive class: 4 missing values\n",
            "Negative class: 683 missing values\n",
            "\n",
            "Dropping column co_000\n",
            "NaN values for column co_000. Total NaN values: 14861\n",
            "Positive class: 645 missing values\n",
            "Negative class: 14216 missing values\n",
            "\n",
            "NaN values for column cp_000. Total NaN values: 2724\n",
            "Positive class: 377 missing values\n",
            "Negative class: 2347 missing values\n",
            "\n",
            "NaN values for column cq_000. Total NaN values: 691\n",
            "Positive class: 42 missing values\n",
            "Negative class: 649 missing values\n",
            "\n",
            "Dropping column cr_000\n",
            "NaN values for column cr_000. Total NaN values: 46329\n",
            "Positive class: 771 missing values\n",
            "Negative class: 45558 missing values\n",
            "\n",
            "NaN values for column cs_000. Total NaN values: 669\n",
            "Positive class: 4 missing values\n",
            "Negative class: 665 missing values\n",
            "\n",
            "NaN values for column cs_001. Total NaN values: 669\n",
            "Positive class: 4 missing values\n",
            "Negative class: 665 missing values\n",
            "\n",
            "NaN values for column cs_002. Total NaN values: 669\n",
            "Positive class: 4 missing values\n",
            "Negative class: 665 missing values\n",
            "\n",
            "NaN values for column cs_003. Total NaN values: 669\n",
            "Positive class: 4 missing values\n",
            "Negative class: 665 missing values\n",
            "\n",
            "NaN values for column cs_004. Total NaN values: 669\n",
            "Positive class: 4 missing values\n",
            "Negative class: 665 missing values\n",
            "\n",
            "NaN values for column cs_005. Total NaN values: 669\n",
            "Positive class: 4 missing values\n",
            "Negative class: 665 missing values\n",
            "\n",
            "NaN values for column cs_006. Total NaN values: 669\n",
            "Positive class: 4 missing values\n",
            "Negative class: 665 missing values\n",
            "\n",
            "NaN values for column cs_007. Total NaN values: 669\n",
            "Positive class: 4 missing values\n",
            "Negative class: 665 missing values\n",
            "\n",
            "NaN values for column cs_008. Total NaN values: 669\n",
            "Positive class: 4 missing values\n",
            "Negative class: 665 missing values\n",
            "\n",
            "NaN values for column cs_009. Total NaN values: 669\n",
            "Positive class: 4 missing values\n",
            "Negative class: 665 missing values\n",
            "\n",
            "Dropping column ct_000\n",
            "NaN values for column ct_000. Total NaN values: 13808\n",
            "Positive class: 532 missing values\n",
            "Negative class: 13276 missing values\n",
            "\n",
            "Dropping column cu_000\n",
            "NaN values for column cu_000. Total NaN values: 13808\n",
            "Positive class: 532 missing values\n",
            "Negative class: 13276 missing values\n",
            "\n",
            "Dropping column cv_000\n",
            "NaN values for column cv_000. Total NaN values: 13808\n",
            "Positive class: 532 missing values\n",
            "Negative class: 13276 missing values\n",
            "\n",
            "Dropping column cx_000\n",
            "NaN values for column cx_000. Total NaN values: 13808\n",
            "Positive class: 532 missing values\n",
            "Negative class: 13276 missing values\n",
            "\n",
            "Dropping column cy_000\n",
            "NaN values for column cy_000. Total NaN values: 13808\n",
            "Positive class: 532 missing values\n",
            "Negative class: 13276 missing values\n",
            "\n",
            "Dropping column cz_000\n",
            "NaN values for column cz_000. Total NaN values: 13808\n",
            "Positive class: 532 missing values\n",
            "Negative class: 13276 missing values\n",
            "\n",
            "Dropping column da_000\n",
            "NaN values for column da_000. Total NaN values: 13808\n",
            "Positive class: 532 missing values\n",
            "Negative class: 13276 missing values\n",
            "\n",
            "Dropping column db_000\n",
            "NaN values for column db_000. Total NaN values: 13808\n",
            "Positive class: 532 missing values\n",
            "Negative class: 13276 missing values\n",
            "\n",
            "Dropping column dc_000\n",
            "NaN values for column dc_000. Total NaN values: 13808\n",
            "Positive class: 532 missing values\n",
            "Negative class: 13276 missing values\n",
            "\n",
            "NaN values for column dd_000. Total NaN values: 2503\n",
            "Positive class: 341 missing values\n",
            "Negative class: 2162 missing values\n",
            "\n",
            "NaN values for column de_000. Total NaN values: 2724\n",
            "Positive class: 377 missing values\n",
            "Negative class: 2347 missing values\n",
            "\n",
            "NaN values for column df_000. Total NaN values: 4008\n",
            "Positive class: 524 missing values\n",
            "Negative class: 3484 missing values\n",
            "\n",
            "NaN values for column dg_000. Total NaN values: 4008\n",
            "Positive class: 524 missing values\n",
            "Negative class: 3484 missing values\n",
            "\n",
            "NaN values for column dh_000. Total NaN values: 4008\n",
            "Positive class: 524 missing values\n",
            "Negative class: 3484 missing values\n",
            "\n",
            "NaN values for column di_000. Total NaN values: 4006\n",
            "Positive class: 524 missing values\n",
            "Negative class: 3482 missing values\n",
            "\n",
            "NaN values for column dj_000. Total NaN values: 4007\n",
            "Positive class: 524 missing values\n",
            "Negative class: 3483 missing values\n",
            "\n",
            "NaN values for column dk_000. Total NaN values: 4007\n",
            "Positive class: 524 missing values\n",
            "Negative class: 3483 missing values\n",
            "\n",
            "NaN values for column dl_000. Total NaN values: 4008\n",
            "Positive class: 524 missing values\n",
            "Negative class: 3484 missing values\n",
            "\n",
            "NaN values for column dm_000. Total NaN values: 4009\n",
            "Positive class: 524 missing values\n",
            "Negative class: 3485 missing values\n",
            "\n",
            "NaN values for column dn_000. Total NaN values: 691\n",
            "Positive class: 42 missing values\n",
            "Negative class: 649 missing values\n",
            "\n",
            "NaN values for column do_000. Total NaN values: 2724\n",
            "Positive class: 377 missing values\n",
            "Negative class: 2347 missing values\n",
            "\n",
            "NaN values for column dp_000. Total NaN values: 2726\n",
            "Positive class: 377 missing values\n",
            "Negative class: 2349 missing values\n",
            "\n",
            "NaN values for column dq_000. Total NaN values: 2726\n",
            "Positive class: 377 missing values\n",
            "Negative class: 2349 missing values\n",
            "\n",
            "NaN values for column dr_000. Total NaN values: 2726\n",
            "Positive class: 377 missing values\n",
            "Negative class: 2349 missing values\n",
            "\n",
            "NaN values for column ds_000. Total NaN values: 2727\n",
            "Positive class: 377 missing values\n",
            "Negative class: 2350 missing values\n",
            "\n",
            "NaN values for column dt_000. Total NaN values: 2727\n",
            "Positive class: 377 missing values\n",
            "Negative class: 2350 missing values\n",
            "\n",
            "NaN values for column du_000. Total NaN values: 2726\n",
            "Positive class: 377 missing values\n",
            "Negative class: 2349 missing values\n",
            "\n",
            "NaN values for column dv_000. Total NaN values: 2726\n",
            "Positive class: 377 missing values\n",
            "Negative class: 2349 missing values\n",
            "\n",
            "NaN values for column dx_000. Total NaN values: 2723\n",
            "Positive class: 377 missing values\n",
            "Negative class: 2346 missing values\n",
            "\n",
            "NaN values for column dy_000. Total NaN values: 2724\n",
            "Positive class: 377 missing values\n",
            "Negative class: 2347 missing values\n",
            "\n",
            "NaN values for column dz_000. Total NaN values: 2723\n",
            "Positive class: 377 missing values\n",
            "Negative class: 2346 missing values\n",
            "\n",
            "NaN values for column ea_000. Total NaN values: 2723\n",
            "Positive class: 377 missing values\n",
            "Negative class: 2346 missing values\n",
            "\n",
            "NaN values for column eb_000. Total NaN values: 4007\n",
            "Positive class: 524 missing values\n",
            "Negative class: 3483 missing values\n",
            "\n",
            "NaN values for column ec_00. Total NaN values: 10239\n",
            "Positive class: 314 missing values\n",
            "Negative class: 9925 missing values\n",
            "\n",
            "NaN values for column ed_000. Total NaN values: 9553\n",
            "Positive class: 228 missing values\n",
            "Negative class: 9325 missing values\n",
            "\n",
            "NaN values for column ee_000. Total NaN values: 671\n",
            "Positive class: 5 missing values\n",
            "Negative class: 666 missing values\n",
            "\n",
            "NaN values for column ee_001. Total NaN values: 671\n",
            "Positive class: 5 missing values\n",
            "Negative class: 666 missing values\n",
            "\n",
            "NaN values for column ee_002. Total NaN values: 671\n",
            "Positive class: 5 missing values\n",
            "Negative class: 666 missing values\n",
            "\n",
            "NaN values for column ee_003. Total NaN values: 671\n",
            "Positive class: 5 missing values\n",
            "Negative class: 666 missing values\n",
            "\n",
            "NaN values for column ee_004. Total NaN values: 671\n",
            "Positive class: 5 missing values\n",
            "Negative class: 666 missing values\n",
            "\n",
            "NaN values for column ee_005. Total NaN values: 671\n",
            "Positive class: 5 missing values\n",
            "Negative class: 666 missing values\n",
            "\n",
            "NaN values for column ee_006. Total NaN values: 671\n",
            "Positive class: 5 missing values\n",
            "Negative class: 666 missing values\n",
            "\n",
            "NaN values for column ee_007. Total NaN values: 671\n",
            "Positive class: 5 missing values\n",
            "Negative class: 666 missing values\n",
            "\n",
            "NaN values for column ee_008. Total NaN values: 671\n",
            "Positive class: 5 missing values\n",
            "Negative class: 666 missing values\n",
            "\n",
            "NaN values for column ee_009. Total NaN values: 671\n",
            "Positive class: 5 missing values\n",
            "Negative class: 666 missing values\n",
            "\n",
            "NaN values for column ef_000. Total NaN values: 2724\n",
            "Positive class: 377 missing values\n",
            "Negative class: 2347 missing values\n",
            "\n",
            "NaN values for column eg_000. Total NaN values: 2723\n",
            "Positive class: 377 missing values\n",
            "Negative class: 2346 missing values\n",
            "\n"
          ]
        }
      ]
    },
    {
      "cell_type": "code",
      "source": [
        "df_train[\"class\"].value_counts()"
      ],
      "metadata": {
        "colab": {
          "base_uri": "https://localhost:8080/"
        },
        "id": "Y9_SWVhHnc8j",
        "outputId": "6c957138-f87a-49d7-c945-d70858506129"
      },
      "execution_count": null,
      "outputs": [
        {
          "output_type": "execute_result",
          "data": {
            "text/plain": [
              "class\n",
              "0    59000\n",
              "1     1000\n",
              "Name: count, dtype: int64"
            ]
          },
          "metadata": {},
          "execution_count": 98
        }
      ]
    },
    {
      "cell_type": "code",
      "source": [
        "df_train.isna().sum().sum()"
      ],
      "metadata": {
        "colab": {
          "base_uri": "https://localhost:8080/"
        },
        "id": "4HQBVwuxR9Zx",
        "outputId": "54dc006a-60f0-44e6-cb85-468bca4c2da0"
      },
      "execution_count": null,
      "outputs": [
        {
          "output_type": "execute_result",
          "data": {
            "text/plain": [
              "232852"
            ]
          },
          "metadata": {},
          "execution_count": 99
        }
      ]
    },
    {
      "cell_type": "code",
      "source": [
        "#df_train[df_train.isna().any(axis=1)]"
      ],
      "metadata": {
        "id": "TC3AI7wiRgWI",
        "collapsed": true
      },
      "execution_count": null,
      "outputs": []
    },
    {
      "cell_type": "code",
      "source": [
        "#df_train = df_train.dropna(axis=0, how=\"any\").reset_index(drop=True)"
      ],
      "metadata": {
        "id": "wCKJcI_bs6Ry"
      },
      "execution_count": null,
      "outputs": []
    },
    {
      "cell_type": "code",
      "source": [
        "for col in df_train.columns:\n",
        "    med=np.nanmedian(df_train[col])\n",
        "    df_train[col] = df_train[col].fillna(med)\n",
        "    med=np.nanmedian(df_test[col])\n",
        "    df_test[col] = df_test[col].fillna(med)"
      ],
      "metadata": {
        "id": "dmFQCmwKTxu-"
      },
      "execution_count": null,
      "outputs": []
    },
    {
      "cell_type": "code",
      "source": [
        "#a = df_train.dropna(axis=0, thresh=80).reset_index(drop=True)\n",
        "#a[\"class\"].value_counts()"
      ],
      "metadata": {
        "id": "Hum-G5EHRHjF"
      },
      "execution_count": null,
      "outputs": []
    },
    {
      "cell_type": "code",
      "source": [
        "df_train[\"class\"].value_counts()"
      ],
      "metadata": {
        "colab": {
          "base_uri": "https://localhost:8080/"
        },
        "id": "Z8F_kwG0Te4w",
        "outputId": "ca54a361-0180-47a3-e49b-9d8a33b7bb63"
      },
      "execution_count": null,
      "outputs": [
        {
          "output_type": "execute_result",
          "data": {
            "text/plain": [
              "class\n",
              "0    59000\n",
              "1     1000\n",
              "Name: count, dtype: int64"
            ]
          },
          "metadata": {},
          "execution_count": 104
        }
      ]
    },
    {
      "cell_type": "code",
      "source": [
        "df_train.info()"
      ],
      "metadata": {
        "colab": {
          "base_uri": "https://localhost:8080/"
        },
        "id": "0CJVIN9JtRoO",
        "outputId": "ec6f7cca-0213-4c12-c113-ebb5c189753d"
      },
      "execution_count": null,
      "outputs": [
        {
          "output_type": "stream",
          "name": "stdout",
          "text": [
            "<class 'pandas.core.frame.DataFrame'>\n",
            "RangeIndex: 60000 entries, 0 to 59999\n",
            "Columns: 147 entries, class to eg_000\n",
            "dtypes: float64(145), int64(2)\n",
            "memory usage: 67.3 MB\n"
          ]
        }
      ]
    },
    {
      "cell_type": "code",
      "source": [
        "df_test.isna().sum().sum()"
      ],
      "metadata": {
        "colab": {
          "base_uri": "https://localhost:8080/"
        },
        "id": "8Kg-rsr7zaqU",
        "outputId": "bd321d47-dcd4-4d0a-afaf-3dc778c05cfc"
      },
      "execution_count": null,
      "outputs": [
        {
          "output_type": "execute_result",
          "data": {
            "text/plain": [
              "0"
            ]
          },
          "metadata": {},
          "execution_count": 106
        }
      ]
    },
    {
      "cell_type": "code",
      "source": [
        "df_test.info()"
      ],
      "metadata": {
        "colab": {
          "base_uri": "https://localhost:8080/"
        },
        "id": "VB2KqlsYzv2N",
        "outputId": "fcb5921d-4e25-4c08-e0b7-d9bee2355242"
      },
      "execution_count": null,
      "outputs": [
        {
          "output_type": "stream",
          "name": "stdout",
          "text": [
            "<class 'pandas.core.frame.DataFrame'>\n",
            "RangeIndex: 16000 entries, 0 to 15999\n",
            "Columns: 147 entries, class to eg_000\n",
            "dtypes: float64(145), int64(2)\n",
            "memory usage: 17.9 MB\n"
          ]
        }
      ]
    },
    {
      "cell_type": "markdown",
      "source": [
        "## Treinamento"
      ],
      "metadata": {
        "id": "vgdZ6rOQqGgl"
      }
    },
    {
      "cell_type": "code",
      "source": [
        "import numpy as np\n",
        "from sklearn.feature_extraction.text import CountVectorizer\n",
        "from sklearn.preprocessing import StandardScaler\n",
        "from sklearn.svm import SVC\n",
        "from sklearn.ensemble import HistGradientBoostingClassifier\n",
        "from sklearn.naive_bayes import MultinomialNB\n",
        "from sklearn.ensemble import RandomForestClassifier\n",
        "from sklearn.neighbors import KNeighborsClassifier\n",
        "from sklearn.metrics import classification_report, accuracy_score, precision_score, recall_score, f1_score"
      ],
      "metadata": {
        "id": "eTrSiB69rfxS"
      },
      "execution_count": null,
      "outputs": []
    },
    {
      "cell_type": "code",
      "source": [
        "#from sklearn.preprocessing import MinMaxScaler\n",
        "from sklearn import preprocessing\n",
        "\n",
        "def train_predict_model(classifier, train_data, test_data, standartization=False):\n",
        "\n",
        "\n",
        "    X_train = train_data.drop(columns=[\"class\"])\n",
        "    y_train = train_data[\"class\"]\n",
        "\n",
        "    X_test = test_data.drop(columns=[\"class\"])\n",
        "    y_test = test_data[\"class\"]\n",
        "\n",
        "    if (standartization):\n",
        "        #scaler = MinMaxScaler()\n",
        "        scaler = preprocessing.StandardScaler()\n",
        "        X_train = scaler.fit_transform(X_train)\n",
        "        X_test = scaler.transform(X_test)\n",
        "\n",
        "\n",
        "    # Fit the classifier on the training data\n",
        "    classifier.fit(X_train, y_train)\n",
        "\n",
        "    # Make predictions on the test data\n",
        "    pred_y = classifier.predict(X_test)\n",
        "\n",
        "    return y_test,pred_y"
      ],
      "metadata": {
        "id": "nC-3Shwkqif5"
      },
      "execution_count": null,
      "outputs": []
    },
    {
      "cell_type": "code",
      "source": [
        "def calc_mean_metrics(true_target, pred_target):\n",
        "  # Initialize dictionaries to store the sum of each metric\n",
        "    print(classification_report(true_target, pred_target))\n",
        "\n",
        "    mean_metrics = {'Accuracy': 0, 'Precision': 0, 'Recall': 0, 'F1-Score': 0}\n",
        "\n",
        "    accuracy = accuracy_score(true_target, pred_target)\n",
        "    precision = precision_score(true_target, pred_target, average='macro')\n",
        "    recall = recall_score(true_target, pred_target, average='macro')\n",
        "    f1 = f1_score(true_target, pred_target, average='macro')\n",
        "\n",
        "    mean_metrics = {'Accuracy': accuracy, 'Precision': precision, 'Recall': recall, 'F1-Score': f1}\n",
        "    return mean_metrics"
      ],
      "metadata": {
        "id": "Y478YZCjrofZ"
      },
      "execution_count": null,
      "outputs": []
    },
    {
      "cell_type": "code",
      "source": [
        "print(\"-------------------------------------------\\n\")\n",
        "#-----------------------HG-------------------------------\n",
        "print(\"HIST GRAD:\")\n",
        "true_0, pred_0 = metrics_list = train_predict_model(HistGradientBoostingClassifier(random_state=42), df_train, df_test, standartization=True)\n",
        "m_0 = calc_mean_metrics(true_0, pred_0)\n",
        "print(\"-------------------------------------------\\n\")\n",
        "#-----------------------NB-------------------------------\n",
        "#print(\"Complement NB:\")\n",
        "\n",
        "#true_1, pred_1 = metrics_list = train_predict_model(MultinomialNB(), df_train, df_test, standartization=True)\n",
        "#m_1 = calc_mean_metrics(true_1, pred_1)\n",
        "\n",
        "#print(\"-------------------------------------------\\n\")\n",
        "#-----------------------RF-------------------------------\n",
        "print(\"Random Forest:\")\n",
        "true_2, pred_2  = metrics_list = train_predict_model(RandomForestClassifier(random_state=42), df_train, df_test, standartization=True)\n",
        "m_2 = calc_mean_metrics(true_2, pred_2)\n",
        "\n",
        "print(\"-------------------------------------------\\n\")\n",
        "#-----------------------KNN-------------------------------\n",
        "print(\"KNN:\")\n",
        "true_3, pred_3 = metrics_list = train_predict_model(KNeighborsClassifier(), df_train, df_test, standartization=True)\n",
        "m_3 = calc_mean_metrics(true_3, pred_3)\n",
        "\n",
        "print(\"-------------------------------------------\\n\")\n",
        "#-----------------------SVM-------------------------------\n",
        "print(\"SVM:\")\n",
        "true_4, pred_4 = metrics_list = train_predict_model(SVC(random_state=42), df_train, df_test, standartization=True)\n",
        "m_4 = calc_mean_metrics(true_4, pred_4)\n",
        "\n",
        "from sklearn.linear_model import LogisticRegression\n",
        "print(\"-------------------------------------------\\n\")\n",
        "#-----------------------LR-------------------------------\n",
        "print(\"LR:\")\n",
        "true_5, pred_5 = metrics_list = train_predict_model(LogisticRegression(random_state=42), df_train, df_test, standartization=True)\n",
        "m_5 = calc_mean_metrics(true_5, pred_5)"
      ],
      "metadata": {
        "colab": {
          "base_uri": "https://localhost:8080/"
        },
        "id": "29Ec2Kptp9YV",
        "outputId": "995744d7-0329-4edb-8ee4-058db3b45708"
      },
      "execution_count": null,
      "outputs": [
        {
          "output_type": "stream",
          "name": "stdout",
          "text": [
            "-------------------------------------------\n",
            "\n",
            "HIST GRAD:\n",
            "              precision    recall  f1-score   support\n",
            "\n",
            "           0       0.99      1.00      1.00     15625\n",
            "           1       0.92      0.73      0.81       375\n",
            "\n",
            "    accuracy                           0.99     16000\n",
            "   macro avg       0.96      0.86      0.90     16000\n",
            "weighted avg       0.99      0.99      0.99     16000\n",
            "\n",
            "-------------------------------------------\n",
            "\n",
            "Random Forest:\n",
            "              precision    recall  f1-score   support\n",
            "\n",
            "           0       0.99      1.00      1.00     15625\n",
            "           1       0.94      0.71      0.81       375\n",
            "\n",
            "    accuracy                           0.99     16000\n",
            "   macro avg       0.97      0.85      0.90     16000\n",
            "weighted avg       0.99      0.99      0.99     16000\n",
            "\n",
            "-------------------------------------------\n",
            "\n",
            "KNN:\n",
            "              precision    recall  f1-score   support\n",
            "\n",
            "           0       0.99      1.00      0.99     15625\n",
            "           1       0.87      0.55      0.68       375\n",
            "\n",
            "    accuracy                           0.99     16000\n",
            "   macro avg       0.93      0.78      0.84     16000\n",
            "weighted avg       0.99      0.99      0.99     16000\n",
            "\n",
            "-------------------------------------------\n",
            "\n",
            "SVM:\n",
            "              precision    recall  f1-score   support\n",
            "\n",
            "           0       0.98      1.00      0.99     15625\n",
            "           1       0.93      0.34      0.50       375\n",
            "\n",
            "    accuracy                           0.98     16000\n",
            "   macro avg       0.96      0.67      0.75     16000\n",
            "weighted avg       0.98      0.98      0.98     16000\n",
            "\n",
            "-------------------------------------------\n",
            "\n",
            "LR:\n",
            "              precision    recall  f1-score   support\n",
            "\n",
            "           0       0.99      1.00      0.99     15625\n",
            "           1       0.83      0.70      0.76       375\n",
            "\n",
            "    accuracy                           0.99     16000\n",
            "   macro avg       0.91      0.85      0.88     16000\n",
            "weighted avg       0.99      0.99      0.99     16000\n",
            "\n"
          ]
        },
        {
          "output_type": "stream",
          "name": "stderr",
          "text": [
            "/usr/local/lib/python3.10/dist-packages/sklearn/linear_model/_logistic.py:458: ConvergenceWarning: lbfgs failed to converge (status=1):\n",
            "STOP: TOTAL NO. of ITERATIONS REACHED LIMIT.\n",
            "\n",
            "Increase the number of iterations (max_iter) or scale the data as shown in:\n",
            "    https://scikit-learn.org/stable/modules/preprocessing.html\n",
            "Please also refer to the documentation for alternative solver options:\n",
            "    https://scikit-learn.org/stable/modules/linear_model.html#logistic-regression\n",
            "  n_iter_i = _check_optimize_result(\n"
          ]
        }
      ]
    },
    {
      "cell_type": "code",
      "source": [
        "print(\"-------------------------------------------\\n\")\n",
        "#-----------------------RF-------------------------------\n",
        "print(\"Random Forest:\")\n",
        "true_2, pred_2  = metrics_list = train_predict_model(RandomForestClassifier(class_weight='balanced_subsample', random_state=42, criterion='entropy'), df_train, df_test, standartization=True)\n",
        "m_2 = calc_mean_metrics(true_2, pred_2)\n"
      ],
      "metadata": {
        "colab": {
          "base_uri": "https://localhost:8080/"
        },
        "id": "P9-bVe22H8Uy",
        "outputId": "7db151a8-5bd3-48be-db9f-cea10fcd4c72"
      },
      "execution_count": null,
      "outputs": [
        {
          "output_type": "stream",
          "name": "stdout",
          "text": [
            "-------------------------------------------\n",
            "\n",
            "Random Forest:\n",
            "              precision    recall  f1-score   support\n",
            "\n",
            "           0       0.99      1.00      1.00     15625\n",
            "           1       0.96      0.66      0.78       375\n",
            "\n",
            "    accuracy                           0.99     16000\n",
            "   macro avg       0.98      0.83      0.89     16000\n",
            "weighted avg       0.99      0.99      0.99     16000\n",
            "\n"
          ]
        }
      ]
    },
    {
      "cell_type": "code",
      "source": [
        "from sklearn.model_selection import GridSearchCV"
      ],
      "metadata": {
        "id": "AXis6KxRTXL5"
      },
      "execution_count": null,
      "outputs": []
    },
    {
      "cell_type": "code",
      "source": [
        "param_grid = {\n",
        "    'n_estimators': [100, 200, 500],\n",
        "    'max_features': ['sqrt', 'log2'],\n",
        "    'max_depth' : [4,5,6,7,8],\n",
        "    'criterion' :['gini', 'entropy'],\n",
        "    'class_weight': ['balanced_subsample', 'balanced']\n",
        "}\n",
        "rfc=RandomForestClassifier(random_state=42)"
      ],
      "metadata": {
        "id": "z_vAouR3SdJ7"
      },
      "execution_count": null,
      "outputs": []
    },
    {
      "cell_type": "code",
      "source": [
        "x_train = df_train.drop(columns=[\"class\"])\n",
        "y_train = df_train[\"class\"]\n",
        "CV_rfc = GridSearchCV(estimator=rfc, param_grid=param_grid, cv= 5)\n",
        "CV_rfc.fit(x_train, y_train)"
      ],
      "metadata": {
        "colab": {
          "base_uri": "https://localhost:8080/",
          "height": 1000
        },
        "id": "kQpdG6WUTBbF",
        "outputId": "830c63bd-8cf0-4ab4-cc67-0f30927cdced"
      },
      "execution_count": null,
      "outputs": [
        {
          "output_type": "stream",
          "name": "stderr",
          "text": [
            "/usr/local/lib/python3.10/dist-packages/sklearn/ensemble/_forest.py:424: FutureWarning: `max_features='auto'` has been deprecated in 1.1 and will be removed in 1.3. To keep the past behaviour, explicitly set `max_features='sqrt'` or remove this parameter as it is also the default value for RandomForestClassifiers and ExtraTreesClassifiers.\n",
            "  warn(\n",
            "/usr/local/lib/python3.10/dist-packages/sklearn/ensemble/_forest.py:424: FutureWarning: `max_features='auto'` has been deprecated in 1.1 and will be removed in 1.3. To keep the past behaviour, explicitly set `max_features='sqrt'` or remove this parameter as it is also the default value for RandomForestClassifiers and ExtraTreesClassifiers.\n",
            "  warn(\n",
            "/usr/local/lib/python3.10/dist-packages/sklearn/ensemble/_forest.py:424: FutureWarning: `max_features='auto'` has been deprecated in 1.1 and will be removed in 1.3. To keep the past behaviour, explicitly set `max_features='sqrt'` or remove this parameter as it is also the default value for RandomForestClassifiers and ExtraTreesClassifiers.\n",
            "  warn(\n",
            "/usr/local/lib/python3.10/dist-packages/sklearn/ensemble/_forest.py:424: FutureWarning: `max_features='auto'` has been deprecated in 1.1 and will be removed in 1.3. To keep the past behaviour, explicitly set `max_features='sqrt'` or remove this parameter as it is also the default value for RandomForestClassifiers and ExtraTreesClassifiers.\n",
            "  warn(\n",
            "/usr/local/lib/python3.10/dist-packages/sklearn/ensemble/_forest.py:424: FutureWarning: `max_features='auto'` has been deprecated in 1.1 and will be removed in 1.3. To keep the past behaviour, explicitly set `max_features='sqrt'` or remove this parameter as it is also the default value for RandomForestClassifiers and ExtraTreesClassifiers.\n",
            "  warn(\n",
            "/usr/local/lib/python3.10/dist-packages/sklearn/ensemble/_forest.py:424: FutureWarning: `max_features='auto'` has been deprecated in 1.1 and will be removed in 1.3. To keep the past behaviour, explicitly set `max_features='sqrt'` or remove this parameter as it is also the default value for RandomForestClassifiers and ExtraTreesClassifiers.\n",
            "  warn(\n",
            "/usr/local/lib/python3.10/dist-packages/sklearn/ensemble/_forest.py:424: FutureWarning: `max_features='auto'` has been deprecated in 1.1 and will be removed in 1.3. To keep the past behaviour, explicitly set `max_features='sqrt'` or remove this parameter as it is also the default value for RandomForestClassifiers and ExtraTreesClassifiers.\n",
            "  warn(\n",
            "/usr/local/lib/python3.10/dist-packages/sklearn/ensemble/_forest.py:424: FutureWarning: `max_features='auto'` has been deprecated in 1.1 and will be removed in 1.3. To keep the past behaviour, explicitly set `max_features='sqrt'` or remove this parameter as it is also the default value for RandomForestClassifiers and ExtraTreesClassifiers.\n",
            "  warn(\n",
            "/usr/local/lib/python3.10/dist-packages/sklearn/ensemble/_forest.py:424: FutureWarning: `max_features='auto'` has been deprecated in 1.1 and will be removed in 1.3. To keep the past behaviour, explicitly set `max_features='sqrt'` or remove this parameter as it is also the default value for RandomForestClassifiers and ExtraTreesClassifiers.\n",
            "  warn(\n",
            "/usr/local/lib/python3.10/dist-packages/sklearn/ensemble/_forest.py:424: FutureWarning: `max_features='auto'` has been deprecated in 1.1 and will be removed in 1.3. To keep the past behaviour, explicitly set `max_features='sqrt'` or remove this parameter as it is also the default value for RandomForestClassifiers and ExtraTreesClassifiers.\n",
            "  warn(\n",
            "/usr/local/lib/python3.10/dist-packages/sklearn/ensemble/_forest.py:424: FutureWarning: `max_features='auto'` has been deprecated in 1.1 and will be removed in 1.3. To keep the past behaviour, explicitly set `max_features='sqrt'` or remove this parameter as it is also the default value for RandomForestClassifiers and ExtraTreesClassifiers.\n",
            "  warn(\n",
            "/usr/local/lib/python3.10/dist-packages/sklearn/ensemble/_forest.py:424: FutureWarning: `max_features='auto'` has been deprecated in 1.1 and will be removed in 1.3. To keep the past behaviour, explicitly set `max_features='sqrt'` or remove this parameter as it is also the default value for RandomForestClassifiers and ExtraTreesClassifiers.\n",
            "  warn(\n",
            "/usr/local/lib/python3.10/dist-packages/sklearn/ensemble/_forest.py:424: FutureWarning: `max_features='auto'` has been deprecated in 1.1 and will be removed in 1.3. To keep the past behaviour, explicitly set `max_features='sqrt'` or remove this parameter as it is also the default value for RandomForestClassifiers and ExtraTreesClassifiers.\n",
            "  warn(\n",
            "/usr/local/lib/python3.10/dist-packages/sklearn/ensemble/_forest.py:424: FutureWarning: `max_features='auto'` has been deprecated in 1.1 and will be removed in 1.3. To keep the past behaviour, explicitly set `max_features='sqrt'` or remove this parameter as it is also the default value for RandomForestClassifiers and ExtraTreesClassifiers.\n",
            "  warn(\n",
            "/usr/local/lib/python3.10/dist-packages/sklearn/ensemble/_forest.py:424: FutureWarning: `max_features='auto'` has been deprecated in 1.1 and will be removed in 1.3. To keep the past behaviour, explicitly set `max_features='sqrt'` or remove this parameter as it is also the default value for RandomForestClassifiers and ExtraTreesClassifiers.\n",
            "  warn(\n",
            "/usr/local/lib/python3.10/dist-packages/sklearn/ensemble/_forest.py:424: FutureWarning: `max_features='auto'` has been deprecated in 1.1 and will be removed in 1.3. To keep the past behaviour, explicitly set `max_features='sqrt'` or remove this parameter as it is also the default value for RandomForestClassifiers and ExtraTreesClassifiers.\n",
            "  warn(\n",
            "/usr/local/lib/python3.10/dist-packages/sklearn/ensemble/_forest.py:424: FutureWarning: `max_features='auto'` has been deprecated in 1.1 and will be removed in 1.3. To keep the past behaviour, explicitly set `max_features='sqrt'` or remove this parameter as it is also the default value for RandomForestClassifiers and ExtraTreesClassifiers.\n",
            "  warn(\n",
            "/usr/local/lib/python3.10/dist-packages/sklearn/ensemble/_forest.py:424: FutureWarning: `max_features='auto'` has been deprecated in 1.1 and will be removed in 1.3. To keep the past behaviour, explicitly set `max_features='sqrt'` or remove this parameter as it is also the default value for RandomForestClassifiers and ExtraTreesClassifiers.\n",
            "  warn(\n",
            "/usr/local/lib/python3.10/dist-packages/sklearn/ensemble/_forest.py:424: FutureWarning: `max_features='auto'` has been deprecated in 1.1 and will be removed in 1.3. To keep the past behaviour, explicitly set `max_features='sqrt'` or remove this parameter as it is also the default value for RandomForestClassifiers and ExtraTreesClassifiers.\n",
            "  warn(\n",
            "/usr/local/lib/python3.10/dist-packages/sklearn/ensemble/_forest.py:424: FutureWarning: `max_features='auto'` has been deprecated in 1.1 and will be removed in 1.3. To keep the past behaviour, explicitly set `max_features='sqrt'` or remove this parameter as it is also the default value for RandomForestClassifiers and ExtraTreesClassifiers.\n",
            "  warn(\n",
            "/usr/local/lib/python3.10/dist-packages/sklearn/ensemble/_forest.py:424: FutureWarning: `max_features='auto'` has been deprecated in 1.1 and will be removed in 1.3. To keep the past behaviour, explicitly set `max_features='sqrt'` or remove this parameter as it is also the default value for RandomForestClassifiers and ExtraTreesClassifiers.\n",
            "  warn(\n",
            "/usr/local/lib/python3.10/dist-packages/sklearn/ensemble/_forest.py:424: FutureWarning: `max_features='auto'` has been deprecated in 1.1 and will be removed in 1.3. To keep the past behaviour, explicitly set `max_features='sqrt'` or remove this parameter as it is also the default value for RandomForestClassifiers and ExtraTreesClassifiers.\n",
            "  warn(\n",
            "/usr/local/lib/python3.10/dist-packages/sklearn/ensemble/_forest.py:424: FutureWarning: `max_features='auto'` has been deprecated in 1.1 and will be removed in 1.3. To keep the past behaviour, explicitly set `max_features='sqrt'` or remove this parameter as it is also the default value for RandomForestClassifiers and ExtraTreesClassifiers.\n",
            "  warn(\n",
            "/usr/local/lib/python3.10/dist-packages/sklearn/ensemble/_forest.py:424: FutureWarning: `max_features='auto'` has been deprecated in 1.1 and will be removed in 1.3. To keep the past behaviour, explicitly set `max_features='sqrt'` or remove this parameter as it is also the default value for RandomForestClassifiers and ExtraTreesClassifiers.\n",
            "  warn(\n",
            "/usr/local/lib/python3.10/dist-packages/sklearn/ensemble/_forest.py:424: FutureWarning: `max_features='auto'` has been deprecated in 1.1 and will be removed in 1.3. To keep the past behaviour, explicitly set `max_features='sqrt'` or remove this parameter as it is also the default value for RandomForestClassifiers and ExtraTreesClassifiers.\n",
            "  warn(\n",
            "/usr/local/lib/python3.10/dist-packages/sklearn/ensemble/_forest.py:424: FutureWarning: `max_features='auto'` has been deprecated in 1.1 and will be removed in 1.3. To keep the past behaviour, explicitly set `max_features='sqrt'` or remove this parameter as it is also the default value for RandomForestClassifiers and ExtraTreesClassifiers.\n",
            "  warn(\n",
            "/usr/local/lib/python3.10/dist-packages/sklearn/ensemble/_forest.py:424: FutureWarning: `max_features='auto'` has been deprecated in 1.1 and will be removed in 1.3. To keep the past behaviour, explicitly set `max_features='sqrt'` or remove this parameter as it is also the default value for RandomForestClassifiers and ExtraTreesClassifiers.\n",
            "  warn(\n",
            "/usr/local/lib/python3.10/dist-packages/sklearn/ensemble/_forest.py:424: FutureWarning: `max_features='auto'` has been deprecated in 1.1 and will be removed in 1.3. To keep the past behaviour, explicitly set `max_features='sqrt'` or remove this parameter as it is also the default value for RandomForestClassifiers and ExtraTreesClassifiers.\n",
            "  warn(\n",
            "/usr/local/lib/python3.10/dist-packages/sklearn/ensemble/_forest.py:424: FutureWarning: `max_features='auto'` has been deprecated in 1.1 and will be removed in 1.3. To keep the past behaviour, explicitly set `max_features='sqrt'` or remove this parameter as it is also the default value for RandomForestClassifiers and ExtraTreesClassifiers.\n",
            "  warn(\n",
            "/usr/local/lib/python3.10/dist-packages/sklearn/ensemble/_forest.py:424: FutureWarning: `max_features='auto'` has been deprecated in 1.1 and will be removed in 1.3. To keep the past behaviour, explicitly set `max_features='sqrt'` or remove this parameter as it is also the default value for RandomForestClassifiers and ExtraTreesClassifiers.\n",
            "  warn(\n",
            "/usr/local/lib/python3.10/dist-packages/sklearn/ensemble/_forest.py:424: FutureWarning: `max_features='auto'` has been deprecated in 1.1 and will be removed in 1.3. To keep the past behaviour, explicitly set `max_features='sqrt'` or remove this parameter as it is also the default value for RandomForestClassifiers and ExtraTreesClassifiers.\n",
            "  warn(\n",
            "/usr/local/lib/python3.10/dist-packages/sklearn/ensemble/_forest.py:424: FutureWarning: `max_features='auto'` has been deprecated in 1.1 and will be removed in 1.3. To keep the past behaviour, explicitly set `max_features='sqrt'` or remove this parameter as it is also the default value for RandomForestClassifiers and ExtraTreesClassifiers.\n",
            "  warn(\n",
            "/usr/local/lib/python3.10/dist-packages/sklearn/ensemble/_forest.py:424: FutureWarning: `max_features='auto'` has been deprecated in 1.1 and will be removed in 1.3. To keep the past behaviour, explicitly set `max_features='sqrt'` or remove this parameter as it is also the default value for RandomForestClassifiers and ExtraTreesClassifiers.\n",
            "  warn(\n",
            "/usr/local/lib/python3.10/dist-packages/sklearn/ensemble/_forest.py:424: FutureWarning: `max_features='auto'` has been deprecated in 1.1 and will be removed in 1.3. To keep the past behaviour, explicitly set `max_features='sqrt'` or remove this parameter as it is also the default value for RandomForestClassifiers and ExtraTreesClassifiers.\n",
            "  warn(\n",
            "/usr/local/lib/python3.10/dist-packages/sklearn/ensemble/_forest.py:424: FutureWarning: `max_features='auto'` has been deprecated in 1.1 and will be removed in 1.3. To keep the past behaviour, explicitly set `max_features='sqrt'` or remove this parameter as it is also the default value for RandomForestClassifiers and ExtraTreesClassifiers.\n",
            "  warn(\n",
            "/usr/local/lib/python3.10/dist-packages/sklearn/ensemble/_forest.py:424: FutureWarning: `max_features='auto'` has been deprecated in 1.1 and will be removed in 1.3. To keep the past behaviour, explicitly set `max_features='sqrt'` or remove this parameter as it is also the default value for RandomForestClassifiers and ExtraTreesClassifiers.\n",
            "  warn(\n",
            "/usr/local/lib/python3.10/dist-packages/sklearn/ensemble/_forest.py:424: FutureWarning: `max_features='auto'` has been deprecated in 1.1 and will be removed in 1.3. To keep the past behaviour, explicitly set `max_features='sqrt'` or remove this parameter as it is also the default value for RandomForestClassifiers and ExtraTreesClassifiers.\n",
            "  warn(\n",
            "/usr/local/lib/python3.10/dist-packages/sklearn/ensemble/_forest.py:424: FutureWarning: `max_features='auto'` has been deprecated in 1.1 and will be removed in 1.3. To keep the past behaviour, explicitly set `max_features='sqrt'` or remove this parameter as it is also the default value for RandomForestClassifiers and ExtraTreesClassifiers.\n",
            "  warn(\n",
            "/usr/local/lib/python3.10/dist-packages/sklearn/ensemble/_forest.py:424: FutureWarning: `max_features='auto'` has been deprecated in 1.1 and will be removed in 1.3. To keep the past behaviour, explicitly set `max_features='sqrt'` or remove this parameter as it is also the default value for RandomForestClassifiers and ExtraTreesClassifiers.\n",
            "  warn(\n",
            "/usr/local/lib/python3.10/dist-packages/sklearn/ensemble/_forest.py:424: FutureWarning: `max_features='auto'` has been deprecated in 1.1 and will be removed in 1.3. To keep the past behaviour, explicitly set `max_features='sqrt'` or remove this parameter as it is also the default value for RandomForestClassifiers and ExtraTreesClassifiers.\n",
            "  warn(\n",
            "/usr/local/lib/python3.10/dist-packages/sklearn/ensemble/_forest.py:424: FutureWarning: `max_features='auto'` has been deprecated in 1.1 and will be removed in 1.3. To keep the past behaviour, explicitly set `max_features='sqrt'` or remove this parameter as it is also the default value for RandomForestClassifiers and ExtraTreesClassifiers.\n",
            "  warn(\n",
            "/usr/local/lib/python3.10/dist-packages/sklearn/ensemble/_forest.py:424: FutureWarning: `max_features='auto'` has been deprecated in 1.1 and will be removed in 1.3. To keep the past behaviour, explicitly set `max_features='sqrt'` or remove this parameter as it is also the default value for RandomForestClassifiers and ExtraTreesClassifiers.\n",
            "  warn(\n",
            "/usr/local/lib/python3.10/dist-packages/sklearn/ensemble/_forest.py:424: FutureWarning: `max_features='auto'` has been deprecated in 1.1 and will be removed in 1.3. To keep the past behaviour, explicitly set `max_features='sqrt'` or remove this parameter as it is also the default value for RandomForestClassifiers and ExtraTreesClassifiers.\n",
            "  warn(\n",
            "/usr/local/lib/python3.10/dist-packages/sklearn/ensemble/_forest.py:424: FutureWarning: `max_features='auto'` has been deprecated in 1.1 and will be removed in 1.3. To keep the past behaviour, explicitly set `max_features='sqrt'` or remove this parameter as it is also the default value for RandomForestClassifiers and ExtraTreesClassifiers.\n",
            "  warn(\n",
            "/usr/local/lib/python3.10/dist-packages/sklearn/ensemble/_forest.py:424: FutureWarning: `max_features='auto'` has been deprecated in 1.1 and will be removed in 1.3. To keep the past behaviour, explicitly set `max_features='sqrt'` or remove this parameter as it is also the default value for RandomForestClassifiers and ExtraTreesClassifiers.\n",
            "  warn(\n",
            "/usr/local/lib/python3.10/dist-packages/sklearn/ensemble/_forest.py:424: FutureWarning: `max_features='auto'` has been deprecated in 1.1 and will be removed in 1.3. To keep the past behaviour, explicitly set `max_features='sqrt'` or remove this parameter as it is also the default value for RandomForestClassifiers and ExtraTreesClassifiers.\n",
            "  warn(\n",
            "/usr/local/lib/python3.10/dist-packages/sklearn/ensemble/_forest.py:424: FutureWarning: `max_features='auto'` has been deprecated in 1.1 and will be removed in 1.3. To keep the past behaviour, explicitly set `max_features='sqrt'` or remove this parameter as it is also the default value for RandomForestClassifiers and ExtraTreesClassifiers.\n",
            "  warn(\n",
            "/usr/local/lib/python3.10/dist-packages/sklearn/ensemble/_forest.py:424: FutureWarning: `max_features='auto'` has been deprecated in 1.1 and will be removed in 1.3. To keep the past behaviour, explicitly set `max_features='sqrt'` or remove this parameter as it is also the default value for RandomForestClassifiers and ExtraTreesClassifiers.\n",
            "  warn(\n",
            "/usr/local/lib/python3.10/dist-packages/sklearn/ensemble/_forest.py:424: FutureWarning: `max_features='auto'` has been deprecated in 1.1 and will be removed in 1.3. To keep the past behaviour, explicitly set `max_features='sqrt'` or remove this parameter as it is also the default value for RandomForestClassifiers and ExtraTreesClassifiers.\n",
            "  warn(\n",
            "/usr/local/lib/python3.10/dist-packages/sklearn/ensemble/_forest.py:424: FutureWarning: `max_features='auto'` has been deprecated in 1.1 and will be removed in 1.3. To keep the past behaviour, explicitly set `max_features='sqrt'` or remove this parameter as it is also the default value for RandomForestClassifiers and ExtraTreesClassifiers.\n",
            "  warn(\n",
            "/usr/local/lib/python3.10/dist-packages/sklearn/ensemble/_forest.py:424: FutureWarning: `max_features='auto'` has been deprecated in 1.1 and will be removed in 1.3. To keep the past behaviour, explicitly set `max_features='sqrt'` or remove this parameter as it is also the default value for RandomForestClassifiers and ExtraTreesClassifiers.\n",
            "  warn(\n",
            "/usr/local/lib/python3.10/dist-packages/sklearn/ensemble/_forest.py:424: FutureWarning: `max_features='auto'` has been deprecated in 1.1 and will be removed in 1.3. To keep the past behaviour, explicitly set `max_features='sqrt'` or remove this parameter as it is also the default value for RandomForestClassifiers and ExtraTreesClassifiers.\n",
            "  warn(\n",
            "/usr/local/lib/python3.10/dist-packages/sklearn/ensemble/_forest.py:424: FutureWarning: `max_features='auto'` has been deprecated in 1.1 and will be removed in 1.3. To keep the past behaviour, explicitly set `max_features='sqrt'` or remove this parameter as it is also the default value for RandomForestClassifiers and ExtraTreesClassifiers.\n",
            "  warn(\n",
            "/usr/local/lib/python3.10/dist-packages/sklearn/ensemble/_forest.py:424: FutureWarning: `max_features='auto'` has been deprecated in 1.1 and will be removed in 1.3. To keep the past behaviour, explicitly set `max_features='sqrt'` or remove this parameter as it is also the default value for RandomForestClassifiers and ExtraTreesClassifiers.\n",
            "  warn(\n",
            "/usr/local/lib/python3.10/dist-packages/sklearn/ensemble/_forest.py:424: FutureWarning: `max_features='auto'` has been deprecated in 1.1 and will be removed in 1.3. To keep the past behaviour, explicitly set `max_features='sqrt'` or remove this parameter as it is also the default value for RandomForestClassifiers and ExtraTreesClassifiers.\n",
            "  warn(\n",
            "/usr/local/lib/python3.10/dist-packages/sklearn/ensemble/_forest.py:424: FutureWarning: `max_features='auto'` has been deprecated in 1.1 and will be removed in 1.3. To keep the past behaviour, explicitly set `max_features='sqrt'` or remove this parameter as it is also the default value for RandomForestClassifiers and ExtraTreesClassifiers.\n",
            "  warn(\n",
            "/usr/local/lib/python3.10/dist-packages/sklearn/ensemble/_forest.py:424: FutureWarning: `max_features='auto'` has been deprecated in 1.1 and will be removed in 1.3. To keep the past behaviour, explicitly set `max_features='sqrt'` or remove this parameter as it is also the default value for RandomForestClassifiers and ExtraTreesClassifiers.\n",
            "  warn(\n",
            "/usr/local/lib/python3.10/dist-packages/sklearn/ensemble/_forest.py:424: FutureWarning: `max_features='auto'` has been deprecated in 1.1 and will be removed in 1.3. To keep the past behaviour, explicitly set `max_features='sqrt'` or remove this parameter as it is also the default value for RandomForestClassifiers and ExtraTreesClassifiers.\n",
            "  warn(\n",
            "/usr/local/lib/python3.10/dist-packages/sklearn/ensemble/_forest.py:424: FutureWarning: `max_features='auto'` has been deprecated in 1.1 and will be removed in 1.3. To keep the past behaviour, explicitly set `max_features='sqrt'` or remove this parameter as it is also the default value for RandomForestClassifiers and ExtraTreesClassifiers.\n",
            "  warn(\n",
            "/usr/local/lib/python3.10/dist-packages/sklearn/ensemble/_forest.py:424: FutureWarning: `max_features='auto'` has been deprecated in 1.1 and will be removed in 1.3. To keep the past behaviour, explicitly set `max_features='sqrt'` or remove this parameter as it is also the default value for RandomForestClassifiers and ExtraTreesClassifiers.\n",
            "  warn(\n",
            "/usr/local/lib/python3.10/dist-packages/sklearn/ensemble/_forest.py:424: FutureWarning: `max_features='auto'` has been deprecated in 1.1 and will be removed in 1.3. To keep the past behaviour, explicitly set `max_features='sqrt'` or remove this parameter as it is also the default value for RandomForestClassifiers and ExtraTreesClassifiers.\n",
            "  warn(\n",
            "/usr/local/lib/python3.10/dist-packages/sklearn/ensemble/_forest.py:424: FutureWarning: `max_features='auto'` has been deprecated in 1.1 and will be removed in 1.3. To keep the past behaviour, explicitly set `max_features='sqrt'` or remove this parameter as it is also the default value for RandomForestClassifiers and ExtraTreesClassifiers.\n",
            "  warn(\n",
            "/usr/local/lib/python3.10/dist-packages/sklearn/ensemble/_forest.py:424: FutureWarning: `max_features='auto'` has been deprecated in 1.1 and will be removed in 1.3. To keep the past behaviour, explicitly set `max_features='sqrt'` or remove this parameter as it is also the default value for RandomForestClassifiers and ExtraTreesClassifiers.\n",
            "  warn(\n",
            "/usr/local/lib/python3.10/dist-packages/sklearn/ensemble/_forest.py:424: FutureWarning: `max_features='auto'` has been deprecated in 1.1 and will be removed in 1.3. To keep the past behaviour, explicitly set `max_features='sqrt'` or remove this parameter as it is also the default value for RandomForestClassifiers and ExtraTreesClassifiers.\n",
            "  warn(\n",
            "/usr/local/lib/python3.10/dist-packages/sklearn/ensemble/_forest.py:424: FutureWarning: `max_features='auto'` has been deprecated in 1.1 and will be removed in 1.3. To keep the past behaviour, explicitly set `max_features='sqrt'` or remove this parameter as it is also the default value for RandomForestClassifiers and ExtraTreesClassifiers.\n",
            "  warn(\n",
            "/usr/local/lib/python3.10/dist-packages/sklearn/ensemble/_forest.py:424: FutureWarning: `max_features='auto'` has been deprecated in 1.1 and will be removed in 1.3. To keep the past behaviour, explicitly set `max_features='sqrt'` or remove this parameter as it is also the default value for RandomForestClassifiers and ExtraTreesClassifiers.\n",
            "  warn(\n",
            "/usr/local/lib/python3.10/dist-packages/sklearn/ensemble/_forest.py:424: FutureWarning: `max_features='auto'` has been deprecated in 1.1 and will be removed in 1.3. To keep the past behaviour, explicitly set `max_features='sqrt'` or remove this parameter as it is also the default value for RandomForestClassifiers and ExtraTreesClassifiers.\n",
            "  warn(\n",
            "/usr/local/lib/python3.10/dist-packages/sklearn/ensemble/_forest.py:424: FutureWarning: `max_features='auto'` has been deprecated in 1.1 and will be removed in 1.3. To keep the past behaviour, explicitly set `max_features='sqrt'` or remove this parameter as it is also the default value for RandomForestClassifiers and ExtraTreesClassifiers.\n",
            "  warn(\n",
            "/usr/local/lib/python3.10/dist-packages/sklearn/ensemble/_forest.py:424: FutureWarning: `max_features='auto'` has been deprecated in 1.1 and will be removed in 1.3. To keep the past behaviour, explicitly set `max_features='sqrt'` or remove this parameter as it is also the default value for RandomForestClassifiers and ExtraTreesClassifiers.\n",
            "  warn(\n",
            "/usr/local/lib/python3.10/dist-packages/sklearn/ensemble/_forest.py:424: FutureWarning: `max_features='auto'` has been deprecated in 1.1 and will be removed in 1.3. To keep the past behaviour, explicitly set `max_features='sqrt'` or remove this parameter as it is also the default value for RandomForestClassifiers and ExtraTreesClassifiers.\n",
            "  warn(\n",
            "/usr/local/lib/python3.10/dist-packages/sklearn/ensemble/_forest.py:424: FutureWarning: `max_features='auto'` has been deprecated in 1.1 and will be removed in 1.3. To keep the past behaviour, explicitly set `max_features='sqrt'` or remove this parameter as it is also the default value for RandomForestClassifiers and ExtraTreesClassifiers.\n",
            "  warn(\n",
            "/usr/local/lib/python3.10/dist-packages/sklearn/ensemble/_forest.py:424: FutureWarning: `max_features='auto'` has been deprecated in 1.1 and will be removed in 1.3. To keep the past behaviour, explicitly set `max_features='sqrt'` or remove this parameter as it is also the default value for RandomForestClassifiers and ExtraTreesClassifiers.\n",
            "  warn(\n",
            "/usr/local/lib/python3.10/dist-packages/sklearn/ensemble/_forest.py:424: FutureWarning: `max_features='auto'` has been deprecated in 1.1 and will be removed in 1.3. To keep the past behaviour, explicitly set `max_features='sqrt'` or remove this parameter as it is also the default value for RandomForestClassifiers and ExtraTreesClassifiers.\n",
            "  warn(\n",
            "/usr/local/lib/python3.10/dist-packages/sklearn/ensemble/_forest.py:424: FutureWarning: `max_features='auto'` has been deprecated in 1.1 and will be removed in 1.3. To keep the past behaviour, explicitly set `max_features='sqrt'` or remove this parameter as it is also the default value for RandomForestClassifiers and ExtraTreesClassifiers.\n",
            "  warn(\n",
            "/usr/local/lib/python3.10/dist-packages/sklearn/ensemble/_forest.py:424: FutureWarning: `max_features='auto'` has been deprecated in 1.1 and will be removed in 1.3. To keep the past behaviour, explicitly set `max_features='sqrt'` or remove this parameter as it is also the default value for RandomForestClassifiers and ExtraTreesClassifiers.\n",
            "  warn(\n",
            "/usr/local/lib/python3.10/dist-packages/sklearn/ensemble/_forest.py:424: FutureWarning: `max_features='auto'` has been deprecated in 1.1 and will be removed in 1.3. To keep the past behaviour, explicitly set `max_features='sqrt'` or remove this parameter as it is also the default value for RandomForestClassifiers and ExtraTreesClassifiers.\n",
            "  warn(\n",
            "/usr/local/lib/python3.10/dist-packages/sklearn/ensemble/_forest.py:424: FutureWarning: `max_features='auto'` has been deprecated in 1.1 and will be removed in 1.3. To keep the past behaviour, explicitly set `max_features='sqrt'` or remove this parameter as it is also the default value for RandomForestClassifiers and ExtraTreesClassifiers.\n",
            "  warn(\n",
            "/usr/local/lib/python3.10/dist-packages/sklearn/ensemble/_forest.py:424: FutureWarning: `max_features='auto'` has been deprecated in 1.1 and will be removed in 1.3. To keep the past behaviour, explicitly set `max_features='sqrt'` or remove this parameter as it is also the default value for RandomForestClassifiers and ExtraTreesClassifiers.\n",
            "  warn(\n",
            "/usr/local/lib/python3.10/dist-packages/sklearn/ensemble/_forest.py:424: FutureWarning: `max_features='auto'` has been deprecated in 1.1 and will be removed in 1.3. To keep the past behaviour, explicitly set `max_features='sqrt'` or remove this parameter as it is also the default value for RandomForestClassifiers and ExtraTreesClassifiers.\n",
            "  warn(\n",
            "/usr/local/lib/python3.10/dist-packages/sklearn/ensemble/_forest.py:424: FutureWarning: `max_features='auto'` has been deprecated in 1.1 and will be removed in 1.3. To keep the past behaviour, explicitly set `max_features='sqrt'` or remove this parameter as it is also the default value for RandomForestClassifiers and ExtraTreesClassifiers.\n",
            "  warn(\n",
            "/usr/local/lib/python3.10/dist-packages/sklearn/ensemble/_forest.py:424: FutureWarning: `max_features='auto'` has been deprecated in 1.1 and will be removed in 1.3. To keep the past behaviour, explicitly set `max_features='sqrt'` or remove this parameter as it is also the default value for RandomForestClassifiers and ExtraTreesClassifiers.\n",
            "  warn(\n",
            "/usr/local/lib/python3.10/dist-packages/sklearn/ensemble/_forest.py:424: FutureWarning: `max_features='auto'` has been deprecated in 1.1 and will be removed in 1.3. To keep the past behaviour, explicitly set `max_features='sqrt'` or remove this parameter as it is also the default value for RandomForestClassifiers and ExtraTreesClassifiers.\n",
            "  warn(\n",
            "/usr/local/lib/python3.10/dist-packages/sklearn/ensemble/_forest.py:424: FutureWarning: `max_features='auto'` has been deprecated in 1.1 and will be removed in 1.3. To keep the past behaviour, explicitly set `max_features='sqrt'` or remove this parameter as it is also the default value for RandomForestClassifiers and ExtraTreesClassifiers.\n",
            "  warn(\n",
            "/usr/local/lib/python3.10/dist-packages/sklearn/ensemble/_forest.py:424: FutureWarning: `max_features='auto'` has been deprecated in 1.1 and will be removed in 1.3. To keep the past behaviour, explicitly set `max_features='sqrt'` or remove this parameter as it is also the default value for RandomForestClassifiers and ExtraTreesClassifiers.\n",
            "  warn(\n",
            "/usr/local/lib/python3.10/dist-packages/sklearn/ensemble/_forest.py:424: FutureWarning: `max_features='auto'` has been deprecated in 1.1 and will be removed in 1.3. To keep the past behaviour, explicitly set `max_features='sqrt'` or remove this parameter as it is also the default value for RandomForestClassifiers and ExtraTreesClassifiers.\n",
            "  warn(\n",
            "/usr/local/lib/python3.10/dist-packages/sklearn/ensemble/_forest.py:424: FutureWarning: `max_features='auto'` has been deprecated in 1.1 and will be removed in 1.3. To keep the past behaviour, explicitly set `max_features='sqrt'` or remove this parameter as it is also the default value for RandomForestClassifiers and ExtraTreesClassifiers.\n",
            "  warn(\n",
            "/usr/local/lib/python3.10/dist-packages/sklearn/ensemble/_forest.py:424: FutureWarning: `max_features='auto'` has been deprecated in 1.1 and will be removed in 1.3. To keep the past behaviour, explicitly set `max_features='sqrt'` or remove this parameter as it is also the default value for RandomForestClassifiers and ExtraTreesClassifiers.\n",
            "  warn(\n",
            "/usr/local/lib/python3.10/dist-packages/sklearn/ensemble/_forest.py:424: FutureWarning: `max_features='auto'` has been deprecated in 1.1 and will be removed in 1.3. To keep the past behaviour, explicitly set `max_features='sqrt'` or remove this parameter as it is also the default value for RandomForestClassifiers and ExtraTreesClassifiers.\n",
            "  warn(\n",
            "/usr/local/lib/python3.10/dist-packages/sklearn/ensemble/_forest.py:424: FutureWarning: `max_features='auto'` has been deprecated in 1.1 and will be removed in 1.3. To keep the past behaviour, explicitly set `max_features='sqrt'` or remove this parameter as it is also the default value for RandomForestClassifiers and ExtraTreesClassifiers.\n",
            "  warn(\n",
            "/usr/local/lib/python3.10/dist-packages/sklearn/ensemble/_forest.py:424: FutureWarning: `max_features='auto'` has been deprecated in 1.1 and will be removed in 1.3. To keep the past behaviour, explicitly set `max_features='sqrt'` or remove this parameter as it is also the default value for RandomForestClassifiers and ExtraTreesClassifiers.\n",
            "  warn(\n",
            "/usr/local/lib/python3.10/dist-packages/sklearn/ensemble/_forest.py:424: FutureWarning: `max_features='auto'` has been deprecated in 1.1 and will be removed in 1.3. To keep the past behaviour, explicitly set `max_features='sqrt'` or remove this parameter as it is also the default value for RandomForestClassifiers and ExtraTreesClassifiers.\n",
            "  warn(\n",
            "/usr/local/lib/python3.10/dist-packages/sklearn/ensemble/_forest.py:424: FutureWarning: `max_features='auto'` has been deprecated in 1.1 and will be removed in 1.3. To keep the past behaviour, explicitly set `max_features='sqrt'` or remove this parameter as it is also the default value for RandomForestClassifiers and ExtraTreesClassifiers.\n",
            "  warn(\n",
            "/usr/local/lib/python3.10/dist-packages/sklearn/ensemble/_forest.py:424: FutureWarning: `max_features='auto'` has been deprecated in 1.1 and will be removed in 1.3. To keep the past behaviour, explicitly set `max_features='sqrt'` or remove this parameter as it is also the default value for RandomForestClassifiers and ExtraTreesClassifiers.\n",
            "  warn(\n",
            "/usr/local/lib/python3.10/dist-packages/sklearn/ensemble/_forest.py:424: FutureWarning: `max_features='auto'` has been deprecated in 1.1 and will be removed in 1.3. To keep the past behaviour, explicitly set `max_features='sqrt'` or remove this parameter as it is also the default value for RandomForestClassifiers and ExtraTreesClassifiers.\n",
            "  warn(\n",
            "/usr/local/lib/python3.10/dist-packages/sklearn/ensemble/_forest.py:424: FutureWarning: `max_features='auto'` has been deprecated in 1.1 and will be removed in 1.3. To keep the past behaviour, explicitly set `max_features='sqrt'` or remove this parameter as it is also the default value for RandomForestClassifiers and ExtraTreesClassifiers.\n",
            "  warn(\n",
            "/usr/local/lib/python3.10/dist-packages/sklearn/ensemble/_forest.py:424: FutureWarning: `max_features='auto'` has been deprecated in 1.1 and will be removed in 1.3. To keep the past behaviour, explicitly set `max_features='sqrt'` or remove this parameter as it is also the default value for RandomForestClassifiers and ExtraTreesClassifiers.\n",
            "  warn(\n",
            "/usr/local/lib/python3.10/dist-packages/sklearn/ensemble/_forest.py:424: FutureWarning: `max_features='auto'` has been deprecated in 1.1 and will be removed in 1.3. To keep the past behaviour, explicitly set `max_features='sqrt'` or remove this parameter as it is also the default value for RandomForestClassifiers and ExtraTreesClassifiers.\n",
            "  warn(\n",
            "/usr/local/lib/python3.10/dist-packages/sklearn/ensemble/_forest.py:424: FutureWarning: `max_features='auto'` has been deprecated in 1.1 and will be removed in 1.3. To keep the past behaviour, explicitly set `max_features='sqrt'` or remove this parameter as it is also the default value for RandomForestClassifiers and ExtraTreesClassifiers.\n",
            "  warn(\n",
            "/usr/local/lib/python3.10/dist-packages/sklearn/ensemble/_forest.py:424: FutureWarning: `max_features='auto'` has been deprecated in 1.1 and will be removed in 1.3. To keep the past behaviour, explicitly set `max_features='sqrt'` or remove this parameter as it is also the default value for RandomForestClassifiers and ExtraTreesClassifiers.\n",
            "  warn(\n",
            "/usr/local/lib/python3.10/dist-packages/sklearn/ensemble/_forest.py:424: FutureWarning: `max_features='auto'` has been deprecated in 1.1 and will be removed in 1.3. To keep the past behaviour, explicitly set `max_features='sqrt'` or remove this parameter as it is also the default value for RandomForestClassifiers and ExtraTreesClassifiers.\n",
            "  warn(\n",
            "/usr/local/lib/python3.10/dist-packages/sklearn/ensemble/_forest.py:424: FutureWarning: `max_features='auto'` has been deprecated in 1.1 and will be removed in 1.3. To keep the past behaviour, explicitly set `max_features='sqrt'` or remove this parameter as it is also the default value for RandomForestClassifiers and ExtraTreesClassifiers.\n",
            "  warn(\n",
            "/usr/local/lib/python3.10/dist-packages/sklearn/ensemble/_forest.py:424: FutureWarning: `max_features='auto'` has been deprecated in 1.1 and will be removed in 1.3. To keep the past behaviour, explicitly set `max_features='sqrt'` or remove this parameter as it is also the default value for RandomForestClassifiers and ExtraTreesClassifiers.\n",
            "  warn(\n",
            "/usr/local/lib/python3.10/dist-packages/sklearn/ensemble/_forest.py:424: FutureWarning: `max_features='auto'` has been deprecated in 1.1 and will be removed in 1.3. To keep the past behaviour, explicitly set `max_features='sqrt'` or remove this parameter as it is also the default value for RandomForestClassifiers and ExtraTreesClassifiers.\n",
            "  warn(\n",
            "/usr/local/lib/python3.10/dist-packages/sklearn/ensemble/_forest.py:424: FutureWarning: `max_features='auto'` has been deprecated in 1.1 and will be removed in 1.3. To keep the past behaviour, explicitly set `max_features='sqrt'` or remove this parameter as it is also the default value for RandomForestClassifiers and ExtraTreesClassifiers.\n",
            "  warn(\n",
            "/usr/local/lib/python3.10/dist-packages/sklearn/ensemble/_forest.py:424: FutureWarning: `max_features='auto'` has been deprecated in 1.1 and will be removed in 1.3. To keep the past behaviour, explicitly set `max_features='sqrt'` or remove this parameter as it is also the default value for RandomForestClassifiers and ExtraTreesClassifiers.\n",
            "  warn(\n"
          ]
        },
        {
          "output_type": "error",
          "ename": "KeyboardInterrupt",
          "evalue": "",
          "traceback": [
            "\u001b[0;31m---------------------------------------------------------------------------\u001b[0m",
            "\u001b[0;31mKeyboardInterrupt\u001b[0m                         Traceback (most recent call last)",
            "\u001b[0;32m<ipython-input-115-16af5a806606>\u001b[0m in \u001b[0;36m<cell line: 4>\u001b[0;34m()\u001b[0m\n\u001b[1;32m      2\u001b[0m \u001b[0my_train\u001b[0m \u001b[0;34m=\u001b[0m \u001b[0mdf_train\u001b[0m\u001b[0;34m[\u001b[0m\u001b[0;34m\"class\"\u001b[0m\u001b[0;34m]\u001b[0m\u001b[0;34m\u001b[0m\u001b[0;34m\u001b[0m\u001b[0m\n\u001b[1;32m      3\u001b[0m \u001b[0mCV_rfc\u001b[0m \u001b[0;34m=\u001b[0m \u001b[0mGridSearchCV\u001b[0m\u001b[0;34m(\u001b[0m\u001b[0mestimator\u001b[0m\u001b[0;34m=\u001b[0m\u001b[0mrfc\u001b[0m\u001b[0;34m,\u001b[0m \u001b[0mparam_grid\u001b[0m\u001b[0;34m=\u001b[0m\u001b[0mparam_grid\u001b[0m\u001b[0;34m,\u001b[0m \u001b[0mcv\u001b[0m\u001b[0;34m=\u001b[0m \u001b[0;36m5\u001b[0m\u001b[0;34m)\u001b[0m\u001b[0;34m\u001b[0m\u001b[0;34m\u001b[0m\u001b[0m\n\u001b[0;32m----> 4\u001b[0;31m \u001b[0mCV_rfc\u001b[0m\u001b[0;34m.\u001b[0m\u001b[0mfit\u001b[0m\u001b[0;34m(\u001b[0m\u001b[0mx_train\u001b[0m\u001b[0;34m,\u001b[0m \u001b[0my_train\u001b[0m\u001b[0;34m)\u001b[0m\u001b[0;34m\u001b[0m\u001b[0;34m\u001b[0m\u001b[0m\n\u001b[0m",
            "\u001b[0;32m/usr/local/lib/python3.10/dist-packages/sklearn/model_selection/_search.py\u001b[0m in \u001b[0;36mfit\u001b[0;34m(self, X, y, groups, **fit_params)\u001b[0m\n\u001b[1;32m    872\u001b[0m                 \u001b[0;32mreturn\u001b[0m \u001b[0mresults\u001b[0m\u001b[0;34m\u001b[0m\u001b[0;34m\u001b[0m\u001b[0m\n\u001b[1;32m    873\u001b[0m \u001b[0;34m\u001b[0m\u001b[0m\n\u001b[0;32m--> 874\u001b[0;31m             \u001b[0mself\u001b[0m\u001b[0;34m.\u001b[0m\u001b[0m_run_search\u001b[0m\u001b[0;34m(\u001b[0m\u001b[0mevaluate_candidates\u001b[0m\u001b[0;34m)\u001b[0m\u001b[0;34m\u001b[0m\u001b[0;34m\u001b[0m\u001b[0m\n\u001b[0m\u001b[1;32m    875\u001b[0m \u001b[0;34m\u001b[0m\u001b[0m\n\u001b[1;32m    876\u001b[0m             \u001b[0;31m# multimetric is determined here because in the case of a callable\u001b[0m\u001b[0;34m\u001b[0m\u001b[0;34m\u001b[0m\u001b[0m\n",
            "\u001b[0;32m/usr/local/lib/python3.10/dist-packages/sklearn/model_selection/_search.py\u001b[0m in \u001b[0;36m_run_search\u001b[0;34m(self, evaluate_candidates)\u001b[0m\n\u001b[1;32m   1386\u001b[0m     \u001b[0;32mdef\u001b[0m \u001b[0m_run_search\u001b[0m\u001b[0;34m(\u001b[0m\u001b[0mself\u001b[0m\u001b[0;34m,\u001b[0m \u001b[0mevaluate_candidates\u001b[0m\u001b[0;34m)\u001b[0m\u001b[0;34m:\u001b[0m\u001b[0;34m\u001b[0m\u001b[0;34m\u001b[0m\u001b[0m\n\u001b[1;32m   1387\u001b[0m         \u001b[0;34m\"\"\"Search all candidates in param_grid\"\"\"\u001b[0m\u001b[0;34m\u001b[0m\u001b[0;34m\u001b[0m\u001b[0m\n\u001b[0;32m-> 1388\u001b[0;31m         \u001b[0mevaluate_candidates\u001b[0m\u001b[0;34m(\u001b[0m\u001b[0mParameterGrid\u001b[0m\u001b[0;34m(\u001b[0m\u001b[0mself\u001b[0m\u001b[0;34m.\u001b[0m\u001b[0mparam_grid\u001b[0m\u001b[0;34m)\u001b[0m\u001b[0;34m)\u001b[0m\u001b[0;34m\u001b[0m\u001b[0;34m\u001b[0m\u001b[0m\n\u001b[0m\u001b[1;32m   1389\u001b[0m \u001b[0;34m\u001b[0m\u001b[0m\n\u001b[1;32m   1390\u001b[0m \u001b[0;34m\u001b[0m\u001b[0m\n",
            "\u001b[0;32m/usr/local/lib/python3.10/dist-packages/sklearn/model_selection/_search.py\u001b[0m in \u001b[0;36mevaluate_candidates\u001b[0;34m(candidate_params, cv, more_results)\u001b[0m\n\u001b[1;32m    819\u001b[0m                     )\n\u001b[1;32m    820\u001b[0m \u001b[0;34m\u001b[0m\u001b[0m\n\u001b[0;32m--> 821\u001b[0;31m                 out = parallel(\n\u001b[0m\u001b[1;32m    822\u001b[0m                     delayed(_fit_and_score)(\n\u001b[1;32m    823\u001b[0m                         \u001b[0mclone\u001b[0m\u001b[0;34m(\u001b[0m\u001b[0mbase_estimator\u001b[0m\u001b[0;34m)\u001b[0m\u001b[0;34m,\u001b[0m\u001b[0;34m\u001b[0m\u001b[0;34m\u001b[0m\u001b[0m\n",
            "\u001b[0;32m/usr/local/lib/python3.10/dist-packages/sklearn/utils/parallel.py\u001b[0m in \u001b[0;36m__call__\u001b[0;34m(self, iterable)\u001b[0m\n\u001b[1;32m     61\u001b[0m             \u001b[0;32mfor\u001b[0m \u001b[0mdelayed_func\u001b[0m\u001b[0;34m,\u001b[0m \u001b[0margs\u001b[0m\u001b[0;34m,\u001b[0m \u001b[0mkwargs\u001b[0m \u001b[0;32min\u001b[0m \u001b[0miterable\u001b[0m\u001b[0;34m\u001b[0m\u001b[0;34m\u001b[0m\u001b[0m\n\u001b[1;32m     62\u001b[0m         )\n\u001b[0;32m---> 63\u001b[0;31m         \u001b[0;32mreturn\u001b[0m \u001b[0msuper\u001b[0m\u001b[0;34m(\u001b[0m\u001b[0;34m)\u001b[0m\u001b[0;34m.\u001b[0m\u001b[0m__call__\u001b[0m\u001b[0;34m(\u001b[0m\u001b[0miterable_with_config\u001b[0m\u001b[0;34m)\u001b[0m\u001b[0;34m\u001b[0m\u001b[0;34m\u001b[0m\u001b[0m\n\u001b[0m\u001b[1;32m     64\u001b[0m \u001b[0;34m\u001b[0m\u001b[0m\n\u001b[1;32m     65\u001b[0m \u001b[0;34m\u001b[0m\u001b[0m\n",
            "\u001b[0;32m/usr/local/lib/python3.10/dist-packages/joblib/parallel.py\u001b[0m in \u001b[0;36m__call__\u001b[0;34m(self, iterable)\u001b[0m\n\u001b[1;32m   1916\u001b[0m             \u001b[0moutput\u001b[0m \u001b[0;34m=\u001b[0m \u001b[0mself\u001b[0m\u001b[0;34m.\u001b[0m\u001b[0m_get_sequential_output\u001b[0m\u001b[0;34m(\u001b[0m\u001b[0miterable\u001b[0m\u001b[0;34m)\u001b[0m\u001b[0;34m\u001b[0m\u001b[0;34m\u001b[0m\u001b[0m\n\u001b[1;32m   1917\u001b[0m             \u001b[0mnext\u001b[0m\u001b[0;34m(\u001b[0m\u001b[0moutput\u001b[0m\u001b[0;34m)\u001b[0m\u001b[0;34m\u001b[0m\u001b[0;34m\u001b[0m\u001b[0m\n\u001b[0;32m-> 1918\u001b[0;31m             \u001b[0;32mreturn\u001b[0m \u001b[0moutput\u001b[0m \u001b[0;32mif\u001b[0m \u001b[0mself\u001b[0m\u001b[0;34m.\u001b[0m\u001b[0mreturn_generator\u001b[0m \u001b[0;32melse\u001b[0m \u001b[0mlist\u001b[0m\u001b[0;34m(\u001b[0m\u001b[0moutput\u001b[0m\u001b[0;34m)\u001b[0m\u001b[0;34m\u001b[0m\u001b[0;34m\u001b[0m\u001b[0m\n\u001b[0m\u001b[1;32m   1919\u001b[0m \u001b[0;34m\u001b[0m\u001b[0m\n\u001b[1;32m   1920\u001b[0m         \u001b[0;31m# Let's create an ID that uniquely identifies the current call. If the\u001b[0m\u001b[0;34m\u001b[0m\u001b[0;34m\u001b[0m\u001b[0m\n",
            "\u001b[0;32m/usr/local/lib/python3.10/dist-packages/joblib/parallel.py\u001b[0m in \u001b[0;36m_get_sequential_output\u001b[0;34m(self, iterable)\u001b[0m\n\u001b[1;32m   1845\u001b[0m                 \u001b[0mself\u001b[0m\u001b[0;34m.\u001b[0m\u001b[0mn_dispatched_batches\u001b[0m \u001b[0;34m+=\u001b[0m \u001b[0;36m1\u001b[0m\u001b[0;34m\u001b[0m\u001b[0;34m\u001b[0m\u001b[0m\n\u001b[1;32m   1846\u001b[0m                 \u001b[0mself\u001b[0m\u001b[0;34m.\u001b[0m\u001b[0mn_dispatched_tasks\u001b[0m \u001b[0;34m+=\u001b[0m \u001b[0;36m1\u001b[0m\u001b[0;34m\u001b[0m\u001b[0;34m\u001b[0m\u001b[0m\n\u001b[0;32m-> 1847\u001b[0;31m                 \u001b[0mres\u001b[0m \u001b[0;34m=\u001b[0m \u001b[0mfunc\u001b[0m\u001b[0;34m(\u001b[0m\u001b[0;34m*\u001b[0m\u001b[0margs\u001b[0m\u001b[0;34m,\u001b[0m \u001b[0;34m**\u001b[0m\u001b[0mkwargs\u001b[0m\u001b[0;34m)\u001b[0m\u001b[0;34m\u001b[0m\u001b[0;34m\u001b[0m\u001b[0m\n\u001b[0m\u001b[1;32m   1848\u001b[0m                 \u001b[0mself\u001b[0m\u001b[0;34m.\u001b[0m\u001b[0mn_completed_tasks\u001b[0m \u001b[0;34m+=\u001b[0m \u001b[0;36m1\u001b[0m\u001b[0;34m\u001b[0m\u001b[0;34m\u001b[0m\u001b[0m\n\u001b[1;32m   1849\u001b[0m                 \u001b[0mself\u001b[0m\u001b[0;34m.\u001b[0m\u001b[0mprint_progress\u001b[0m\u001b[0;34m(\u001b[0m\u001b[0;34m)\u001b[0m\u001b[0;34m\u001b[0m\u001b[0;34m\u001b[0m\u001b[0m\n",
            "\u001b[0;32m/usr/local/lib/python3.10/dist-packages/sklearn/utils/parallel.py\u001b[0m in \u001b[0;36m__call__\u001b[0;34m(self, *args, **kwargs)\u001b[0m\n\u001b[1;32m    121\u001b[0m             \u001b[0mconfig\u001b[0m \u001b[0;34m=\u001b[0m \u001b[0;34m{\u001b[0m\u001b[0;34m}\u001b[0m\u001b[0;34m\u001b[0m\u001b[0;34m\u001b[0m\u001b[0m\n\u001b[1;32m    122\u001b[0m         \u001b[0;32mwith\u001b[0m \u001b[0mconfig_context\u001b[0m\u001b[0;34m(\u001b[0m\u001b[0;34m**\u001b[0m\u001b[0mconfig\u001b[0m\u001b[0;34m)\u001b[0m\u001b[0;34m:\u001b[0m\u001b[0;34m\u001b[0m\u001b[0;34m\u001b[0m\u001b[0m\n\u001b[0;32m--> 123\u001b[0;31m             \u001b[0;32mreturn\u001b[0m \u001b[0mself\u001b[0m\u001b[0;34m.\u001b[0m\u001b[0mfunction\u001b[0m\u001b[0;34m(\u001b[0m\u001b[0;34m*\u001b[0m\u001b[0margs\u001b[0m\u001b[0;34m,\u001b[0m \u001b[0;34m**\u001b[0m\u001b[0mkwargs\u001b[0m\u001b[0;34m)\u001b[0m\u001b[0;34m\u001b[0m\u001b[0;34m\u001b[0m\u001b[0m\n\u001b[0m",
            "\u001b[0;32m/usr/local/lib/python3.10/dist-packages/sklearn/model_selection/_validation.py\u001b[0m in \u001b[0;36m_fit_and_score\u001b[0;34m(estimator, X, y, scorer, train, test, verbose, parameters, fit_params, return_train_score, return_parameters, return_n_test_samples, return_times, return_estimator, split_progress, candidate_progress, error_score)\u001b[0m\n\u001b[1;32m    684\u001b[0m             \u001b[0mestimator\u001b[0m\u001b[0;34m.\u001b[0m\u001b[0mfit\u001b[0m\u001b[0;34m(\u001b[0m\u001b[0mX_train\u001b[0m\u001b[0;34m,\u001b[0m \u001b[0;34m**\u001b[0m\u001b[0mfit_params\u001b[0m\u001b[0;34m)\u001b[0m\u001b[0;34m\u001b[0m\u001b[0;34m\u001b[0m\u001b[0m\n\u001b[1;32m    685\u001b[0m         \u001b[0;32melse\u001b[0m\u001b[0;34m:\u001b[0m\u001b[0;34m\u001b[0m\u001b[0;34m\u001b[0m\u001b[0m\n\u001b[0;32m--> 686\u001b[0;31m             \u001b[0mestimator\u001b[0m\u001b[0;34m.\u001b[0m\u001b[0mfit\u001b[0m\u001b[0;34m(\u001b[0m\u001b[0mX_train\u001b[0m\u001b[0;34m,\u001b[0m \u001b[0my_train\u001b[0m\u001b[0;34m,\u001b[0m \u001b[0;34m**\u001b[0m\u001b[0mfit_params\u001b[0m\u001b[0;34m)\u001b[0m\u001b[0;34m\u001b[0m\u001b[0;34m\u001b[0m\u001b[0m\n\u001b[0m\u001b[1;32m    687\u001b[0m \u001b[0;34m\u001b[0m\u001b[0m\n\u001b[1;32m    688\u001b[0m     \u001b[0;32mexcept\u001b[0m \u001b[0mException\u001b[0m\u001b[0;34m:\u001b[0m\u001b[0;34m\u001b[0m\u001b[0;34m\u001b[0m\u001b[0m\n",
            "\u001b[0;32m/usr/local/lib/python3.10/dist-packages/sklearn/ensemble/_forest.py\u001b[0m in \u001b[0;36mfit\u001b[0;34m(self, X, y, sample_weight)\u001b[0m\n\u001b[1;32m    471\u001b[0m             \u001b[0;31m# parallel_backend contexts set at a higher level,\u001b[0m\u001b[0;34m\u001b[0m\u001b[0;34m\u001b[0m\u001b[0m\n\u001b[1;32m    472\u001b[0m             \u001b[0;31m# since correctness does not rely on using threads.\u001b[0m\u001b[0;34m\u001b[0m\u001b[0;34m\u001b[0m\u001b[0m\n\u001b[0;32m--> 473\u001b[0;31m             trees = Parallel(\n\u001b[0m\u001b[1;32m    474\u001b[0m                 \u001b[0mn_jobs\u001b[0m\u001b[0;34m=\u001b[0m\u001b[0mself\u001b[0m\u001b[0;34m.\u001b[0m\u001b[0mn_jobs\u001b[0m\u001b[0;34m,\u001b[0m\u001b[0;34m\u001b[0m\u001b[0;34m\u001b[0m\u001b[0m\n\u001b[1;32m    475\u001b[0m                 \u001b[0mverbose\u001b[0m\u001b[0;34m=\u001b[0m\u001b[0mself\u001b[0m\u001b[0;34m.\u001b[0m\u001b[0mverbose\u001b[0m\u001b[0;34m,\u001b[0m\u001b[0;34m\u001b[0m\u001b[0;34m\u001b[0m\u001b[0m\n",
            "\u001b[0;32m/usr/local/lib/python3.10/dist-packages/sklearn/utils/parallel.py\u001b[0m in \u001b[0;36m__call__\u001b[0;34m(self, iterable)\u001b[0m\n\u001b[1;32m     61\u001b[0m             \u001b[0;32mfor\u001b[0m \u001b[0mdelayed_func\u001b[0m\u001b[0;34m,\u001b[0m \u001b[0margs\u001b[0m\u001b[0;34m,\u001b[0m \u001b[0mkwargs\u001b[0m \u001b[0;32min\u001b[0m \u001b[0miterable\u001b[0m\u001b[0;34m\u001b[0m\u001b[0;34m\u001b[0m\u001b[0m\n\u001b[1;32m     62\u001b[0m         )\n\u001b[0;32m---> 63\u001b[0;31m         \u001b[0;32mreturn\u001b[0m \u001b[0msuper\u001b[0m\u001b[0;34m(\u001b[0m\u001b[0;34m)\u001b[0m\u001b[0;34m.\u001b[0m\u001b[0m__call__\u001b[0m\u001b[0;34m(\u001b[0m\u001b[0miterable_with_config\u001b[0m\u001b[0;34m)\u001b[0m\u001b[0;34m\u001b[0m\u001b[0;34m\u001b[0m\u001b[0m\n\u001b[0m\u001b[1;32m     64\u001b[0m \u001b[0;34m\u001b[0m\u001b[0m\n\u001b[1;32m     65\u001b[0m \u001b[0;34m\u001b[0m\u001b[0m\n",
            "\u001b[0;32m/usr/local/lib/python3.10/dist-packages/joblib/parallel.py\u001b[0m in \u001b[0;36m__call__\u001b[0;34m(self, iterable)\u001b[0m\n\u001b[1;32m   1916\u001b[0m             \u001b[0moutput\u001b[0m \u001b[0;34m=\u001b[0m \u001b[0mself\u001b[0m\u001b[0;34m.\u001b[0m\u001b[0m_get_sequential_output\u001b[0m\u001b[0;34m(\u001b[0m\u001b[0miterable\u001b[0m\u001b[0;34m)\u001b[0m\u001b[0;34m\u001b[0m\u001b[0;34m\u001b[0m\u001b[0m\n\u001b[1;32m   1917\u001b[0m             \u001b[0mnext\u001b[0m\u001b[0;34m(\u001b[0m\u001b[0moutput\u001b[0m\u001b[0;34m)\u001b[0m\u001b[0;34m\u001b[0m\u001b[0;34m\u001b[0m\u001b[0m\n\u001b[0;32m-> 1918\u001b[0;31m             \u001b[0;32mreturn\u001b[0m \u001b[0moutput\u001b[0m \u001b[0;32mif\u001b[0m \u001b[0mself\u001b[0m\u001b[0;34m.\u001b[0m\u001b[0mreturn_generator\u001b[0m \u001b[0;32melse\u001b[0m \u001b[0mlist\u001b[0m\u001b[0;34m(\u001b[0m\u001b[0moutput\u001b[0m\u001b[0;34m)\u001b[0m\u001b[0;34m\u001b[0m\u001b[0;34m\u001b[0m\u001b[0m\n\u001b[0m\u001b[1;32m   1919\u001b[0m \u001b[0;34m\u001b[0m\u001b[0m\n\u001b[1;32m   1920\u001b[0m         \u001b[0;31m# Let's create an ID that uniquely identifies the current call. If the\u001b[0m\u001b[0;34m\u001b[0m\u001b[0;34m\u001b[0m\u001b[0m\n",
            "\u001b[0;32m/usr/local/lib/python3.10/dist-packages/joblib/parallel.py\u001b[0m in \u001b[0;36m_get_sequential_output\u001b[0;34m(self, iterable)\u001b[0m\n\u001b[1;32m   1845\u001b[0m                 \u001b[0mself\u001b[0m\u001b[0;34m.\u001b[0m\u001b[0mn_dispatched_batches\u001b[0m \u001b[0;34m+=\u001b[0m \u001b[0;36m1\u001b[0m\u001b[0;34m\u001b[0m\u001b[0;34m\u001b[0m\u001b[0m\n\u001b[1;32m   1846\u001b[0m                 \u001b[0mself\u001b[0m\u001b[0;34m.\u001b[0m\u001b[0mn_dispatched_tasks\u001b[0m \u001b[0;34m+=\u001b[0m \u001b[0;36m1\u001b[0m\u001b[0;34m\u001b[0m\u001b[0;34m\u001b[0m\u001b[0m\n\u001b[0;32m-> 1847\u001b[0;31m                 \u001b[0mres\u001b[0m \u001b[0;34m=\u001b[0m \u001b[0mfunc\u001b[0m\u001b[0;34m(\u001b[0m\u001b[0;34m*\u001b[0m\u001b[0margs\u001b[0m\u001b[0;34m,\u001b[0m \u001b[0;34m**\u001b[0m\u001b[0mkwargs\u001b[0m\u001b[0;34m)\u001b[0m\u001b[0;34m\u001b[0m\u001b[0;34m\u001b[0m\u001b[0m\n\u001b[0m\u001b[1;32m   1848\u001b[0m                 \u001b[0mself\u001b[0m\u001b[0;34m.\u001b[0m\u001b[0mn_completed_tasks\u001b[0m \u001b[0;34m+=\u001b[0m \u001b[0;36m1\u001b[0m\u001b[0;34m\u001b[0m\u001b[0;34m\u001b[0m\u001b[0m\n\u001b[1;32m   1849\u001b[0m                 \u001b[0mself\u001b[0m\u001b[0;34m.\u001b[0m\u001b[0mprint_progress\u001b[0m\u001b[0;34m(\u001b[0m\u001b[0;34m)\u001b[0m\u001b[0;34m\u001b[0m\u001b[0;34m\u001b[0m\u001b[0m\n",
            "\u001b[0;32m/usr/local/lib/python3.10/dist-packages/sklearn/utils/parallel.py\u001b[0m in \u001b[0;36m__call__\u001b[0;34m(self, *args, **kwargs)\u001b[0m\n\u001b[1;32m    121\u001b[0m             \u001b[0mconfig\u001b[0m \u001b[0;34m=\u001b[0m \u001b[0;34m{\u001b[0m\u001b[0;34m}\u001b[0m\u001b[0;34m\u001b[0m\u001b[0;34m\u001b[0m\u001b[0m\n\u001b[1;32m    122\u001b[0m         \u001b[0;32mwith\u001b[0m \u001b[0mconfig_context\u001b[0m\u001b[0;34m(\u001b[0m\u001b[0;34m**\u001b[0m\u001b[0mconfig\u001b[0m\u001b[0;34m)\u001b[0m\u001b[0;34m:\u001b[0m\u001b[0;34m\u001b[0m\u001b[0;34m\u001b[0m\u001b[0m\n\u001b[0;32m--> 123\u001b[0;31m             \u001b[0;32mreturn\u001b[0m \u001b[0mself\u001b[0m\u001b[0;34m.\u001b[0m\u001b[0mfunction\u001b[0m\u001b[0;34m(\u001b[0m\u001b[0;34m*\u001b[0m\u001b[0margs\u001b[0m\u001b[0;34m,\u001b[0m \u001b[0;34m**\u001b[0m\u001b[0mkwargs\u001b[0m\u001b[0;34m)\u001b[0m\u001b[0;34m\u001b[0m\u001b[0;34m\u001b[0m\u001b[0m\n\u001b[0m",
            "\u001b[0;32m/usr/local/lib/python3.10/dist-packages/sklearn/ensemble/_forest.py\u001b[0m in \u001b[0;36m_parallel_build_trees\u001b[0;34m(tree, bootstrap, X, y, sample_weight, tree_idx, n_trees, verbose, class_weight, n_samples_bootstrap)\u001b[0m\n\u001b[1;32m    182\u001b[0m             \u001b[0mcurr_sample_weight\u001b[0m \u001b[0;34m*=\u001b[0m \u001b[0mcompute_sample_weight\u001b[0m\u001b[0;34m(\u001b[0m\u001b[0;34m\"balanced\"\u001b[0m\u001b[0;34m,\u001b[0m \u001b[0my\u001b[0m\u001b[0;34m,\u001b[0m \u001b[0mindices\u001b[0m\u001b[0;34m=\u001b[0m\u001b[0mindices\u001b[0m\u001b[0;34m)\u001b[0m\u001b[0;34m\u001b[0m\u001b[0;34m\u001b[0m\u001b[0m\n\u001b[1;32m    183\u001b[0m \u001b[0;34m\u001b[0m\u001b[0m\n\u001b[0;32m--> 184\u001b[0;31m         \u001b[0mtree\u001b[0m\u001b[0;34m.\u001b[0m\u001b[0mfit\u001b[0m\u001b[0;34m(\u001b[0m\u001b[0mX\u001b[0m\u001b[0;34m,\u001b[0m \u001b[0my\u001b[0m\u001b[0;34m,\u001b[0m \u001b[0msample_weight\u001b[0m\u001b[0;34m=\u001b[0m\u001b[0mcurr_sample_weight\u001b[0m\u001b[0;34m,\u001b[0m \u001b[0mcheck_input\u001b[0m\u001b[0;34m=\u001b[0m\u001b[0;32mFalse\u001b[0m\u001b[0;34m)\u001b[0m\u001b[0;34m\u001b[0m\u001b[0;34m\u001b[0m\u001b[0m\n\u001b[0m\u001b[1;32m    185\u001b[0m     \u001b[0;32melse\u001b[0m\u001b[0;34m:\u001b[0m\u001b[0;34m\u001b[0m\u001b[0;34m\u001b[0m\u001b[0m\n\u001b[1;32m    186\u001b[0m         \u001b[0mtree\u001b[0m\u001b[0;34m.\u001b[0m\u001b[0mfit\u001b[0m\u001b[0;34m(\u001b[0m\u001b[0mX\u001b[0m\u001b[0;34m,\u001b[0m \u001b[0my\u001b[0m\u001b[0;34m,\u001b[0m \u001b[0msample_weight\u001b[0m\u001b[0;34m=\u001b[0m\u001b[0msample_weight\u001b[0m\u001b[0;34m,\u001b[0m \u001b[0mcheck_input\u001b[0m\u001b[0;34m=\u001b[0m\u001b[0;32mFalse\u001b[0m\u001b[0;34m)\u001b[0m\u001b[0;34m\u001b[0m\u001b[0;34m\u001b[0m\u001b[0m\n",
            "\u001b[0;32m/usr/local/lib/python3.10/dist-packages/sklearn/tree/_classes.py\u001b[0m in \u001b[0;36mfit\u001b[0;34m(self, X, y, sample_weight, check_input)\u001b[0m\n\u001b[1;32m    887\u001b[0m         \"\"\"\n\u001b[1;32m    888\u001b[0m \u001b[0;34m\u001b[0m\u001b[0m\n\u001b[0;32m--> 889\u001b[0;31m         super().fit(\n\u001b[0m\u001b[1;32m    890\u001b[0m             \u001b[0mX\u001b[0m\u001b[0;34m,\u001b[0m\u001b[0;34m\u001b[0m\u001b[0;34m\u001b[0m\u001b[0m\n\u001b[1;32m    891\u001b[0m             \u001b[0my\u001b[0m\u001b[0;34m,\u001b[0m\u001b[0;34m\u001b[0m\u001b[0;34m\u001b[0m\u001b[0m\n",
            "\u001b[0;32m/usr/local/lib/python3.10/dist-packages/sklearn/tree/_classes.py\u001b[0m in \u001b[0;36mfit\u001b[0;34m(self, X, y, sample_weight, check_input)\u001b[0m\n\u001b[1;32m    377\u001b[0m             )\n\u001b[1;32m    378\u001b[0m \u001b[0;34m\u001b[0m\u001b[0m\n\u001b[0;32m--> 379\u001b[0;31m         \u001b[0mbuilder\u001b[0m\u001b[0;34m.\u001b[0m\u001b[0mbuild\u001b[0m\u001b[0;34m(\u001b[0m\u001b[0mself\u001b[0m\u001b[0;34m.\u001b[0m\u001b[0mtree_\u001b[0m\u001b[0;34m,\u001b[0m \u001b[0mX\u001b[0m\u001b[0;34m,\u001b[0m \u001b[0my\u001b[0m\u001b[0;34m,\u001b[0m \u001b[0msample_weight\u001b[0m\u001b[0;34m)\u001b[0m\u001b[0;34m\u001b[0m\u001b[0;34m\u001b[0m\u001b[0m\n\u001b[0m\u001b[1;32m    380\u001b[0m \u001b[0;34m\u001b[0m\u001b[0m\n\u001b[1;32m    381\u001b[0m         \u001b[0;32mif\u001b[0m \u001b[0mself\u001b[0m\u001b[0;34m.\u001b[0m\u001b[0mn_outputs_\u001b[0m \u001b[0;34m==\u001b[0m \u001b[0;36m1\u001b[0m \u001b[0;32mand\u001b[0m \u001b[0mis_classifier\u001b[0m\u001b[0;34m(\u001b[0m\u001b[0mself\u001b[0m\u001b[0;34m)\u001b[0m\u001b[0;34m:\u001b[0m\u001b[0;34m\u001b[0m\u001b[0;34m\u001b[0m\u001b[0m\n",
            "\u001b[0;31mKeyboardInterrupt\u001b[0m: "
          ]
        }
      ]
    },
    {
      "cell_type": "code",
      "source": [
        "pip install catboost"
      ],
      "metadata": {
        "colab": {
          "base_uri": "https://localhost:8080/"
        },
        "id": "Mcl_9iXKHbdY",
        "outputId": "1d595b76-779e-45e1-f17e-369b311e7262"
      },
      "execution_count": null,
      "outputs": [
        {
          "output_type": "stream",
          "name": "stdout",
          "text": [
            "Requirement already satisfied: catboost in /usr/local/lib/python3.10/dist-packages (1.2.5)\n",
            "Requirement already satisfied: graphviz in /usr/local/lib/python3.10/dist-packages (from catboost) (0.20.3)\n",
            "Requirement already satisfied: matplotlib in /usr/local/lib/python3.10/dist-packages (from catboost) (3.7.1)\n",
            "Requirement already satisfied: numpy>=1.16.0 in /usr/local/lib/python3.10/dist-packages (from catboost) (1.25.2)\n",
            "Requirement already satisfied: pandas>=0.24 in /usr/local/lib/python3.10/dist-packages (from catboost) (2.0.3)\n",
            "Requirement already satisfied: scipy in /usr/local/lib/python3.10/dist-packages (from catboost) (1.11.4)\n",
            "Requirement already satisfied: plotly in /usr/local/lib/python3.10/dist-packages (from catboost) (5.15.0)\n",
            "Requirement already satisfied: six in /usr/local/lib/python3.10/dist-packages (from catboost) (1.16.0)\n",
            "Requirement already satisfied: python-dateutil>=2.8.2 in /usr/local/lib/python3.10/dist-packages (from pandas>=0.24->catboost) (2.8.2)\n",
            "Requirement already satisfied: pytz>=2020.1 in /usr/local/lib/python3.10/dist-packages (from pandas>=0.24->catboost) (2023.4)\n",
            "Requirement already satisfied: tzdata>=2022.1 in /usr/local/lib/python3.10/dist-packages (from pandas>=0.24->catboost) (2024.1)\n",
            "Requirement already satisfied: contourpy>=1.0.1 in /usr/local/lib/python3.10/dist-packages (from matplotlib->catboost) (1.2.1)\n",
            "Requirement already satisfied: cycler>=0.10 in /usr/local/lib/python3.10/dist-packages (from matplotlib->catboost) (0.12.1)\n",
            "Requirement already satisfied: fonttools>=4.22.0 in /usr/local/lib/python3.10/dist-packages (from matplotlib->catboost) (4.53.0)\n",
            "Requirement already satisfied: kiwisolver>=1.0.1 in /usr/local/lib/python3.10/dist-packages (from matplotlib->catboost) (1.4.5)\n",
            "Requirement already satisfied: packaging>=20.0 in /usr/local/lib/python3.10/dist-packages (from matplotlib->catboost) (24.1)\n",
            "Requirement already satisfied: pillow>=6.2.0 in /usr/local/lib/python3.10/dist-packages (from matplotlib->catboost) (9.4.0)\n",
            "Requirement already satisfied: pyparsing>=2.3.1 in /usr/local/lib/python3.10/dist-packages (from matplotlib->catboost) (3.1.2)\n",
            "Requirement already satisfied: tenacity>=6.2.0 in /usr/local/lib/python3.10/dist-packages (from plotly->catboost) (8.4.2)\n"
          ]
        }
      ]
    },
    {
      "cell_type": "code",
      "source": [
        "from catboost import CatBoostClassifier\n",
        "print(\"-------------------------------------------\\n\")\n",
        "#-----------------------RF-------------------------------\n",
        "print(\"Random Forest:\")\n",
        "true_2, pred_2  = metrics_list = train_predict_model(CatBoostClassifier(custom_metric='TotalF1', eval_metric='F1', iterations=300,random_state=42), df_train, df_test, standartization=True)\n",
        "m_2 = calc_mean_metrics(true_2, pred_2)\n"
      ],
      "metadata": {
        "colab": {
          "base_uri": "https://localhost:8080/"
        },
        "id": "5mfpa06eK9rY",
        "outputId": "bef76dc1-6992-4699-d88e-bcf0ecca1127"
      },
      "execution_count": null,
      "outputs": [
        {
          "output_type": "stream",
          "name": "stdout",
          "text": [
            "-------------------------------------------\n",
            "\n",
            "Random Forest:\n",
            "Learning rate set to 0.178519\n",
            "0:\tlearn: 0.3270250\ttotal: 254ms\tremaining: 1m 15s\n",
            "1:\tlearn: 0.3769470\ttotal: 423ms\tremaining: 1m 3s\n",
            "2:\tlearn: 0.4519016\ttotal: 666ms\tremaining: 1m 5s\n",
            "3:\tlearn: 0.5673469\ttotal: 857ms\tremaining: 1m 3s\n",
            "4:\tlearn: 0.6035503\ttotal: 1.03s\tremaining: 1m\n",
            "5:\tlearn: 0.6198830\ttotal: 1.22s\tremaining: 59.9s\n",
            "6:\tlearn: 0.6632911\ttotal: 1.45s\tremaining: 1m\n",
            "7:\tlearn: 0.6708701\ttotal: 1.67s\tremaining: 1m 1s\n",
            "8:\tlearn: 0.6811955\ttotal: 1.84s\tremaining: 59.6s\n",
            "9:\tlearn: 0.7058824\ttotal: 2.01s\tremaining: 58.4s\n",
            "10:\tlearn: 0.7044335\ttotal: 2.17s\tremaining: 57s\n",
            "11:\tlearn: 0.7204366\ttotal: 2.34s\tremaining: 56.1s\n",
            "12:\tlearn: 0.7324955\ttotal: 2.56s\tremaining: 56.6s\n",
            "13:\tlearn: 0.7471877\ttotal: 2.81s\tremaining: 57.4s\n",
            "14:\tlearn: 0.7523585\ttotal: 3.01s\tremaining: 57.2s\n",
            "15:\tlearn: 0.7593897\ttotal: 3.24s\tremaining: 57.5s\n",
            "16:\tlearn: 0.7700410\ttotal: 3.44s\tremaining: 57.2s\n",
            "17:\tlearn: 0.7800926\ttotal: 3.56s\tremaining: 55.8s\n",
            "18:\tlearn: 0.7892325\ttotal: 3.69s\tremaining: 54.6s\n",
            "19:\tlearn: 0.7922374\ttotal: 3.81s\tremaining: 53.4s\n",
            "20:\tlearn: 0.7961165\ttotal: 3.95s\tremaining: 52.5s\n",
            "21:\tlearn: 0.7984055\ttotal: 4.08s\tremaining: 51.6s\n",
            "22:\tlearn: 0.8002283\ttotal: 4.24s\tremaining: 51.1s\n",
            "23:\tlearn: 0.8104427\ttotal: 4.43s\tremaining: 50.9s\n",
            "24:\tlearn: 0.8126769\ttotal: 4.57s\tremaining: 50.3s\n",
            "25:\tlearn: 0.8186937\ttotal: 4.76s\tremaining: 50.2s\n",
            "26:\tlearn: 0.8262332\ttotal: 4.88s\tremaining: 49.4s\n",
            "27:\tlearn: 0.8304421\ttotal: 5.02s\tremaining: 48.8s\n",
            "28:\tlearn: 0.8322148\ttotal: 5.19s\tremaining: 48.5s\n",
            "29:\tlearn: 0.8357542\ttotal: 5.3s\tremaining: 47.7s\n",
            "30:\tlearn: 0.8402894\ttotal: 5.42s\tremaining: 47s\n",
            "31:\tlearn: 0.8407572\ttotal: 5.55s\tremaining: 46.5s\n",
            "32:\tlearn: 0.8453378\ttotal: 5.72s\tremaining: 46.3s\n",
            "33:\tlearn: 0.8452116\ttotal: 5.85s\tremaining: 45.8s\n",
            "34:\tlearn: 0.8474388\ttotal: 5.97s\tremaining: 45.2s\n",
            "35:\tlearn: 0.8483835\ttotal: 6.1s\tremaining: 44.8s\n",
            "36:\tlearn: 0.8509455\ttotal: 6.32s\tremaining: 44.9s\n",
            "37:\tlearn: 0.8547672\ttotal: 6.46s\tremaining: 44.6s\n",
            "38:\tlearn: 0.8557159\ttotal: 6.6s\tremaining: 44.1s\n",
            "39:\tlearn: 0.8568257\ttotal: 6.74s\tremaining: 43.8s\n",
            "40:\tlearn: 0.8618785\ttotal: 6.88s\tremaining: 43.5s\n",
            "41:\tlearn: 0.8653422\ttotal: 7s\tremaining: 43s\n",
            "42:\tlearn: 0.8694215\ttotal: 7.13s\tremaining: 42.6s\n",
            "43:\tlearn: 0.8723872\ttotal: 7.26s\tremaining: 42.3s\n",
            "44:\tlearn: 0.8765771\ttotal: 7.4s\tremaining: 41.9s\n",
            "45:\tlearn: 0.8762322\ttotal: 7.54s\tremaining: 41.6s\n",
            "46:\tlearn: 0.8791689\ttotal: 7.71s\tremaining: 41.5s\n",
            "47:\tlearn: 0.8818381\ttotal: 7.9s\tremaining: 41.5s\n",
            "48:\tlearn: 0.8842795\ttotal: 8.07s\tremaining: 41.4s\n",
            "49:\tlearn: 0.8841530\ttotal: 8.2s\tremaining: 41s\n",
            "50:\tlearn: 0.8848882\ttotal: 8.32s\tremaining: 40.6s\n",
            "51:\tlearn: 0.8858547\ttotal: 8.46s\tremaining: 40.3s\n",
            "52:\tlearn: 0.8900979\ttotal: 8.61s\tremaining: 40.1s\n",
            "53:\tlearn: 0.8929929\ttotal: 8.75s\tremaining: 39.8s\n",
            "54:\tlearn: 0.8964770\ttotal: 8.92s\tremaining: 39.7s\n",
            "55:\tlearn: 0.8980477\ttotal: 9.17s\tremaining: 40s\n",
            "56:\tlearn: 0.9031909\ttotal: 9.29s\tremaining: 39.6s\n",
            "57:\tlearn: 0.9025974\ttotal: 9.38s\tremaining: 39.2s\n",
            "58:\tlearn: 0.9036797\ttotal: 9.49s\tremaining: 38.8s\n",
            "59:\tlearn: 0.9042726\ttotal: 9.62s\tremaining: 38.5s\n",
            "60:\tlearn: 0.9059459\ttotal: 9.75s\tremaining: 38.2s\n",
            "61:\tlearn: 0.9059459\ttotal: 9.88s\tremaining: 37.9s\n",
            "62:\tlearn: 0.9082073\ttotal: 10s\tremaining: 37.7s\n",
            "63:\tlearn: 0.9093851\ttotal: 10.1s\tremaining: 37.4s\n",
            "64:\tlearn: 0.9093851\ttotal: 10.3s\tremaining: 37.4s\n",
            "65:\tlearn: 0.9098759\ttotal: 10.5s\tremaining: 37.2s\n",
            "66:\tlearn: 0.9127155\ttotal: 10.7s\tremaining: 37.3s\n",
            "67:\tlearn: 0.9121294\ttotal: 10.9s\tremaining: 37s\n",
            "68:\tlearn: 0.9133010\ttotal: 11s\tremaining: 36.7s\n",
            "69:\tlearn: 0.9150538\ttotal: 11.1s\tremaining: 36.6s\n",
            "70:\tlearn: 0.9173820\ttotal: 11.3s\tremaining: 36.6s\n",
            "71:\tlearn: 0.9173820\ttotal: 11.5s\tremaining: 36.3s\n",
            "72:\tlearn: 0.9185423\ttotal: 11.6s\tremaining: 36s\n",
            "73:\tlearn: 0.9179625\ttotal: 11.7s\tremaining: 35.8s\n",
            "74:\tlearn: 0.9208556\ttotal: 11.9s\tremaining: 35.8s\n",
            "75:\tlearn: 0.9220085\ttotal: 12.1s\tremaining: 35.6s\n",
            "76:\tlearn: 0.9237333\ttotal: 12.2s\tremaining: 35.3s\n",
            "77:\tlearn: 0.9243070\ttotal: 12.3s\tremaining: 35s\n",
            "78:\tlearn: 0.9248801\ttotal: 12.4s\tremaining: 34.7s\n",
            "79:\tlearn: 0.9254526\ttotal: 12.5s\tremaining: 34.4s\n",
            "80:\tlearn: 0.9254526\ttotal: 12.6s\tremaining: 34.2s\n",
            "81:\tlearn: 0.9260245\ttotal: 12.8s\tremaining: 33.9s\n",
            "82:\tlearn: 0.9265957\ttotal: 12.9s\tremaining: 33.8s\n",
            "83:\tlearn: 0.9282297\ttotal: 13s\tremaining: 33.5s\n",
            "84:\tlearn: 0.9304302\ttotal: 13.2s\tremaining: 33.3s\n",
            "85:\tlearn: 0.9309979\ttotal: 13.3s\tremaining: 33.1s\n",
            "86:\tlearn: 0.9298618\ttotal: 13.6s\tremaining: 33.2s\n",
            "87:\tlearn: 0.9315650\ttotal: 13.8s\tremaining: 33.2s\n",
            "88:\tlearn: 0.9326974\ttotal: 14s\tremaining: 33.2s\n",
            "89:\tlearn: 0.9315650\ttotal: 14.3s\tremaining: 33.3s\n",
            "90:\tlearn: 0.9337573\ttotal: 14.5s\tremaining: 33.3s\n",
            "91:\tlearn: 0.9348862\ttotal: 14.7s\tremaining: 33.3s\n",
            "92:\tlearn: 0.9354497\ttotal: 15s\tremaining: 33.3s\n",
            "93:\tlearn: 0.9360127\ttotal: 15.2s\tremaining: 33.3s\n",
            "94:\tlearn: 0.9370703\ttotal: 15.4s\tremaining: 33.2s\n",
            "95:\tlearn: 0.9376321\ttotal: 15.7s\tremaining: 33.5s\n",
            "96:\tlearn: 0.9376321\ttotal: 15.9s\tremaining: 33.3s\n",
            "97:\tlearn: 0.9381933\ttotal: 16.1s\tremaining: 33.2s\n",
            "98:\tlearn: 0.9409905\ttotal: 16.2s\tremaining: 32.9s\n",
            "99:\tlearn: 0.9426618\ttotal: 16.5s\tremaining: 33s\n",
            "100:\tlearn: 0.9432177\ttotal: 16.7s\tremaining: 32.9s\n",
            "101:\tlearn: 0.9437730\ttotal: 16.9s\tremaining: 32.9s\n",
            "102:\tlearn: 0.9448819\ttotal: 17.2s\tremaining: 32.9s\n",
            "103:\tlearn: 0.9443277\ttotal: 17.4s\tremaining: 32.8s\n",
            "104:\tlearn: 0.9454355\ttotal: 17.7s\tremaining: 32.9s\n",
            "105:\tlearn: 0.9454355\ttotal: 17.9s\tremaining: 32.7s\n",
            "106:\tlearn: 0.9465409\ttotal: 18.1s\tremaining: 32.6s\n",
            "107:\tlearn: 0.9470372\ttotal: 18.3s\tremaining: 32.5s\n",
            "108:\tlearn: 0.9470372\ttotal: 18.4s\tremaining: 32.2s\n",
            "109:\tlearn: 0.9475341\ttotal: 18.5s\tremaining: 32s\n",
            "110:\tlearn: 0.9475341\ttotal: 18.7s\tremaining: 31.8s\n",
            "111:\tlearn: 0.9480860\ttotal: 18.8s\tremaining: 31.5s\n",
            "112:\tlearn: 0.9486373\ttotal: 18.9s\tremaining: 31.4s\n",
            "113:\tlearn: 0.9497382\ttotal: 19.1s\tremaining: 31.2s\n",
            "114:\tlearn: 0.9502878\ttotal: 19.3s\tremaining: 31.1s\n",
            "115:\tlearn: 0.9513853\ttotal: 19.5s\tremaining: 30.9s\n",
            "116:\tlearn: 0.9513853\ttotal: 19.6s\tremaining: 30.7s\n",
            "117:\tlearn: 0.9508368\ttotal: 19.7s\tremaining: 30.4s\n",
            "118:\tlearn: 0.9524804\ttotal: 19.9s\tremaining: 30.2s\n",
            "119:\tlearn: 0.9524804\ttotal: 20s\tremaining: 30.1s\n",
            "120:\tlearn: 0.9524804\ttotal: 20.2s\tremaining: 29.8s\n",
            "121:\tlearn: 0.9541189\ttotal: 20.3s\tremaining: 29.6s\n",
            "122:\tlearn: 0.9541189\ttotal: 20.5s\tremaining: 29.4s\n",
            "123:\tlearn: 0.9541189\ttotal: 20.6s\tremaining: 29.3s\n",
            "124:\tlearn: 0.9546639\ttotal: 20.9s\tremaining: 29.2s\n",
            "125:\tlearn: 0.9546639\ttotal: 21s\tremaining: 29s\n",
            "126:\tlearn: 0.9552083\ttotal: 21.2s\tremaining: 28.8s\n",
            "127:\tlearn: 0.9552083\ttotal: 21.3s\tremaining: 28.6s\n",
            "128:\tlearn: 0.9562955\ttotal: 21.4s\tremaining: 28.4s\n",
            "129:\tlearn: 0.9557522\ttotal: 21.5s\tremaining: 28.2s\n",
            "130:\tlearn: 0.9568383\ttotal: 21.6s\tremaining: 27.9s\n",
            "131:\tlearn: 0.9557522\ttotal: 21.8s\tremaining: 27.7s\n",
            "132:\tlearn: 0.9562500\ttotal: 21.9s\tremaining: 27.5s\n",
            "133:\tlearn: 0.9562500\ttotal: 22s\tremaining: 27.3s\n",
            "134:\tlearn: 0.9578783\ttotal: 22.2s\tremaining: 27.1s\n",
            "135:\tlearn: 0.9584200\ttotal: 22.3s\tremaining: 26.9s\n",
            "136:\tlearn: 0.9589610\ttotal: 22.5s\tremaining: 26.7s\n",
            "137:\tlearn: 0.9600415\ttotal: 22.6s\tremaining: 26.5s\n",
            "138:\tlearn: 0.9611198\ttotal: 22.7s\tremaining: 26.3s\n",
            "139:\tlearn: 0.9632315\ttotal: 22.9s\tremaining: 26.1s\n",
            "140:\tlearn: 0.9627329\ttotal: 23s\tremaining: 25.9s\n",
            "141:\tlearn: 0.9632695\ttotal: 23.1s\tremaining: 25.7s\n",
            "142:\tlearn: 0.9638056\ttotal: 23.2s\tremaining: 25.5s\n",
            "143:\tlearn: 0.9637681\ttotal: 23.4s\tremaining: 25.3s\n",
            "144:\tlearn: 0.9648397\ttotal: 23.5s\tremaining: 25.1s\n",
            "145:\tlearn: 0.9653747\ttotal: 23.6s\tremaining: 24.9s\n",
            "146:\tlearn: 0.9653747\ttotal: 23.8s\tremaining: 24.7s\n",
            "147:\tlearn: 0.9659091\ttotal: 23.9s\tremaining: 24.5s\n",
            "148:\tlearn: 0.9664430\ttotal: 24s\tremaining: 24.3s\n",
            "149:\tlearn: 0.9664430\ttotal: 24.1s\tremaining: 24.1s\n",
            "150:\tlearn: 0.9674755\ttotal: 24.4s\tremaining: 24.1s\n",
            "151:\tlearn: 0.9680083\ttotal: 24.6s\tremaining: 23.9s\n",
            "152:\tlearn: 0.9685405\ttotal: 24.7s\tremaining: 23.8s\n",
            "153:\tlearn: 0.9685405\ttotal: 24.9s\tremaining: 23.6s\n",
            "154:\tlearn: 0.9685405\ttotal: 25s\tremaining: 23.4s\n",
            "155:\tlearn: 0.9685405\ttotal: 25.2s\tremaining: 23.2s\n",
            "156:\tlearn: 0.9690722\ttotal: 25.3s\tremaining: 23.1s\n",
            "157:\tlearn: 0.9690722\ttotal: 25.5s\tremaining: 22.9s\n",
            "158:\tlearn: 0.9690722\ttotal: 25.7s\tremaining: 22.8s\n",
            "159:\tlearn: 0.9696033\ttotal: 25.9s\tremaining: 22.6s\n",
            "160:\tlearn: 0.9691040\ttotal: 26s\tremaining: 22.5s\n",
            "161:\tlearn: 0.9696033\ttotal: 26.2s\tremaining: 22.3s\n",
            "162:\tlearn: 0.9706941\ttotal: 26.3s\tremaining: 22.1s\n",
            "163:\tlearn: 0.9706941\ttotal: 26.5s\tremaining: 22s\n",
            "164:\tlearn: 0.9706941\ttotal: 26.6s\tremaining: 21.8s\n",
            "165:\tlearn: 0.9706941\ttotal: 26.8s\tremaining: 21.6s\n",
            "166:\tlearn: 0.9712230\ttotal: 26.9s\tremaining: 21.4s\n",
            "167:\tlearn: 0.9717224\ttotal: 27s\tremaining: 21.2s\n",
            "168:\tlearn: 0.9717224\ttotal: 27.1s\tremaining: 21s\n",
            "169:\tlearn: 0.9722508\ttotal: 27.3s\tremaining: 20.9s\n",
            "170:\tlearn: 0.9722508\ttotal: 27.4s\tremaining: 20.7s\n",
            "171:\tlearn: 0.9722508\ttotal: 27.6s\tremaining: 20.6s\n",
            "172:\tlearn: 0.9722508\ttotal: 27.9s\tremaining: 20.5s\n",
            "173:\tlearn: 0.9722508\ttotal: 28.1s\tremaining: 20.4s\n",
            "174:\tlearn: 0.9722508\ttotal: 28.3s\tremaining: 20.2s\n",
            "175:\tlearn: 0.9722508\ttotal: 28.4s\tremaining: 20s\n",
            "176:\tlearn: 0.9722508\ttotal: 28.6s\tremaining: 19.9s\n",
            "177:\tlearn: 0.9722508\ttotal: 28.8s\tremaining: 19.7s\n",
            "178:\tlearn: 0.9722508\ttotal: 29s\tremaining: 19.6s\n",
            "179:\tlearn: 0.9722508\ttotal: 29.2s\tremaining: 19.5s\n",
            "180:\tlearn: 0.9727786\ttotal: 29.5s\tremaining: 19.4s\n",
            "181:\tlearn: 0.9727786\ttotal: 29.6s\tremaining: 19.2s\n",
            "182:\tlearn: 0.9738327\ttotal: 29.8s\tremaining: 19.1s\n",
            "183:\tlearn: 0.9733060\ttotal: 30s\tremaining: 18.9s\n",
            "184:\tlearn: 0.9727786\ttotal: 30.1s\tremaining: 18.7s\n",
            "185:\tlearn: 0.9727786\ttotal: 30.3s\tremaining: 18.6s\n",
            "186:\tlearn: 0.9733060\ttotal: 30.5s\tremaining: 18.4s\n",
            "187:\tlearn: 0.9727786\ttotal: 30.7s\tremaining: 18.3s\n",
            "188:\tlearn: 0.9727786\ttotal: 30.9s\tremaining: 18.2s\n",
            "189:\tlearn: 0.9727786\ttotal: 31.1s\tremaining: 18s\n",
            "190:\tlearn: 0.9733060\ttotal: 31.3s\tremaining: 17.9s\n",
            "191:\tlearn: 0.9733060\ttotal: 31.7s\tremaining: 17.8s\n",
            "192:\tlearn: 0.9733060\ttotal: 31.9s\tremaining: 17.7s\n",
            "193:\tlearn: 0.9738327\ttotal: 32.1s\tremaining: 17.6s\n",
            "194:\tlearn: 0.9738327\ttotal: 32.3s\tremaining: 17.4s\n",
            "195:\tlearn: 0.9743590\ttotal: 32.5s\tremaining: 17.2s\n",
            "196:\tlearn: 0.9743590\ttotal: 32.7s\tremaining: 17.1s\n",
            "197:\tlearn: 0.9743590\ttotal: 32.9s\tremaining: 17s\n",
            "198:\tlearn: 0.9743590\ttotal: 33.1s\tremaining: 16.8s\n",
            "199:\tlearn: 0.9748847\ttotal: 33.3s\tremaining: 16.6s\n",
            "200:\tlearn: 0.9748847\ttotal: 33.4s\tremaining: 16.5s\n",
            "201:\tlearn: 0.9754098\ttotal: 33.5s\tremaining: 16.3s\n",
            "202:\tlearn: 0.9748847\ttotal: 33.7s\tremaining: 16.1s\n",
            "203:\tlearn: 0.9748847\ttotal: 33.8s\tremaining: 15.9s\n",
            "204:\tlearn: 0.9748847\ttotal: 34s\tremaining: 15.7s\n",
            "205:\tlearn: 0.9748847\ttotal: 34.1s\tremaining: 15.6s\n",
            "206:\tlearn: 0.9748847\ttotal: 34.3s\tremaining: 15.4s\n",
            "207:\tlearn: 0.9748847\ttotal: 34.4s\tremaining: 15.2s\n",
            "208:\tlearn: 0.9759345\ttotal: 34.6s\tremaining: 15s\n",
            "209:\tlearn: 0.9759345\ttotal: 34.7s\tremaining: 14.9s\n",
            "210:\tlearn: 0.9759345\ttotal: 34.9s\tremaining: 14.7s\n",
            "211:\tlearn: 0.9759345\ttotal: 35s\tremaining: 14.5s\n",
            "212:\tlearn: 0.9759345\ttotal: 35.2s\tremaining: 14.4s\n",
            "213:\tlearn: 0.9754098\ttotal: 35.3s\tremaining: 14.2s\n",
            "214:\tlearn: 0.9759345\ttotal: 35.4s\tremaining: 14s\n",
            "215:\tlearn: 0.9759345\ttotal: 35.5s\tremaining: 13.8s\n",
            "216:\tlearn: 0.9759345\ttotal: 35.6s\tremaining: 13.6s\n",
            "217:\tlearn: 0.9769821\ttotal: 35.8s\tremaining: 13.4s\n",
            "218:\tlearn: 0.9769821\ttotal: 35.9s\tremaining: 13.3s\n",
            "219:\tlearn: 0.9769821\ttotal: 36.1s\tremaining: 13.1s\n",
            "220:\tlearn: 0.9785495\ttotal: 36.3s\tremaining: 13s\n",
            "221:\tlearn: 0.9790710\ttotal: 36.6s\tremaining: 12.8s\n",
            "222:\tlearn: 0.9790710\ttotal: 36.8s\tremaining: 12.7s\n",
            "223:\tlearn: 0.9801122\ttotal: 37s\tremaining: 12.6s\n",
            "224:\tlearn: 0.9795918\ttotal: 37.2s\tremaining: 12.4s\n",
            "225:\tlearn: 0.9801122\ttotal: 37.4s\tremaining: 12.2s\n",
            "226:\tlearn: 0.9801122\ttotal: 37.6s\tremaining: 12.1s\n",
            "227:\tlearn: 0.9801122\ttotal: 37.7s\tremaining: 11.9s\n",
            "228:\tlearn: 0.9801122\ttotal: 37.9s\tremaining: 11.8s\n",
            "229:\tlearn: 0.9801122\ttotal: 38.1s\tremaining: 11.6s\n",
            "230:\tlearn: 0.9801122\ttotal: 38.3s\tremaining: 11.4s\n",
            "231:\tlearn: 0.9806320\ttotal: 38.4s\tremaining: 11.3s\n",
            "232:\tlearn: 0.9811513\ttotal: 38.5s\tremaining: 11.1s\n",
            "233:\tlearn: 0.9816701\ttotal: 38.7s\tremaining: 10.9s\n",
            "234:\tlearn: 0.9816701\ttotal: 38.9s\tremaining: 10.8s\n",
            "235:\tlearn: 0.9811513\ttotal: 39s\tremaining: 10.6s\n",
            "236:\tlearn: 0.9816701\ttotal: 39.2s\tremaining: 10.4s\n",
            "237:\tlearn: 0.9816701\ttotal: 39.3s\tremaining: 10.2s\n",
            "238:\tlearn: 0.9821883\ttotal: 39.4s\tremaining: 10.1s\n",
            "239:\tlearn: 0.9821883\ttotal: 39.6s\tremaining: 9.89s\n",
            "240:\tlearn: 0.9816701\ttotal: 39.7s\tremaining: 9.71s\n",
            "241:\tlearn: 0.9821883\ttotal: 39.8s\tremaining: 9.54s\n",
            "242:\tlearn: 0.9816701\ttotal: 39.9s\tremaining: 9.37s\n",
            "243:\tlearn: 0.9827060\ttotal: 40.1s\tremaining: 9.21s\n",
            "244:\tlearn: 0.9827060\ttotal: 40.2s\tremaining: 9.03s\n",
            "245:\tlearn: 0.9821883\ttotal: 40.3s\tremaining: 8.84s\n",
            "246:\tlearn: 0.9821883\ttotal: 40.3s\tremaining: 8.66s\n",
            "247:\tlearn: 0.9827060\ttotal: 40.4s\tremaining: 8.47s\n",
            "248:\tlearn: 0.9827060\ttotal: 40.5s\tremaining: 8.29s\n",
            "249:\tlearn: 0.9821883\ttotal: 40.5s\tremaining: 8.11s\n",
            "250:\tlearn: 0.9821883\ttotal: 40.6s\tremaining: 7.93s\n",
            "251:\tlearn: 0.9832232\ttotal: 40.7s\tremaining: 7.75s\n",
            "252:\tlearn: 0.9827060\ttotal: 40.8s\tremaining: 7.57s\n",
            "253:\tlearn: 0.9827060\ttotal: 40.8s\tremaining: 7.39s\n",
            "254:\tlearn: 0.9827060\ttotal: 40.9s\tremaining: 7.21s\n",
            "255:\tlearn: 0.9832232\ttotal: 41s\tremaining: 7.04s\n",
            "256:\tlearn: 0.9837398\ttotal: 41s\tremaining: 6.86s\n",
            "257:\tlearn: 0.9842560\ttotal: 41.1s\tremaining: 6.69s\n",
            "258:\tlearn: 0.9842560\ttotal: 41.2s\tremaining: 6.51s\n",
            "259:\tlearn: 0.9842560\ttotal: 41.2s\tremaining: 6.34s\n",
            "260:\tlearn: 0.9842560\ttotal: 41.3s\tremaining: 6.17s\n",
            "261:\tlearn: 0.9842560\ttotal: 41.4s\tremaining: 6s\n",
            "262:\tlearn: 0.9847716\ttotal: 41.4s\tremaining: 5.83s\n",
            "263:\tlearn: 0.9842560\ttotal: 41.5s\tremaining: 5.66s\n",
            "264:\tlearn: 0.9842560\ttotal: 41.5s\tremaining: 5.49s\n",
            "265:\tlearn: 0.9842560\ttotal: 41.6s\tremaining: 5.32s\n",
            "266:\tlearn: 0.9842560\ttotal: 41.7s\tremaining: 5.15s\n",
            "267:\tlearn: 0.9842560\ttotal: 41.7s\tremaining: 4.98s\n",
            "268:\tlearn: 0.9842560\ttotal: 41.8s\tremaining: 4.82s\n",
            "269:\tlearn: 0.9842560\ttotal: 41.9s\tremaining: 4.65s\n",
            "270:\tlearn: 0.9842560\ttotal: 42s\tremaining: 4.49s\n",
            "271:\tlearn: 0.9842560\ttotal: 42s\tremaining: 4.33s\n",
            "272:\tlearn: 0.9842560\ttotal: 42.2s\tremaining: 4.17s\n",
            "273:\tlearn: 0.9842560\ttotal: 42.3s\tremaining: 4.01s\n",
            "274:\tlearn: 0.9847716\ttotal: 42.4s\tremaining: 3.85s\n",
            "275:\tlearn: 0.9852867\ttotal: 42.5s\tremaining: 3.69s\n",
            "276:\tlearn: 0.9852867\ttotal: 42.6s\tremaining: 3.54s\n",
            "277:\tlearn: 0.9852867\ttotal: 42.8s\tremaining: 3.38s\n",
            "278:\tlearn: 0.9852867\ttotal: 42.9s\tremaining: 3.23s\n",
            "279:\tlearn: 0.9852867\ttotal: 43s\tremaining: 3.07s\n",
            "280:\tlearn: 0.9852867\ttotal: 43.1s\tremaining: 2.91s\n",
            "281:\tlearn: 0.9852867\ttotal: 43.2s\tremaining: 2.76s\n",
            "282:\tlearn: 0.9852867\ttotal: 43.4s\tremaining: 2.6s\n",
            "283:\tlearn: 0.9852867\ttotal: 43.5s\tremaining: 2.45s\n",
            "284:\tlearn: 0.9852867\ttotal: 43.6s\tremaining: 2.3s\n",
            "285:\tlearn: 0.9852867\ttotal: 43.8s\tremaining: 2.14s\n",
            "286:\tlearn: 0.9852867\ttotal: 43.9s\tremaining: 1.99s\n",
            "287:\tlearn: 0.9852867\ttotal: 44s\tremaining: 1.83s\n",
            "288:\tlearn: 0.9858012\ttotal: 44.2s\tremaining: 1.68s\n",
            "289:\tlearn: 0.9858012\ttotal: 44.3s\tremaining: 1.53s\n",
            "290:\tlearn: 0.9858012\ttotal: 44.4s\tremaining: 1.37s\n",
            "291:\tlearn: 0.9858012\ttotal: 44.5s\tremaining: 1.22s\n",
            "292:\tlearn: 0.9858012\ttotal: 44.7s\tremaining: 1.07s\n",
            "293:\tlearn: 0.9858012\ttotal: 44.8s\tremaining: 914ms\n",
            "294:\tlearn: 0.9863153\ttotal: 44.9s\tremaining: 761ms\n",
            "295:\tlearn: 0.9868288\ttotal: 45.1s\tremaining: 609ms\n",
            "296:\tlearn: 0.9868288\ttotal: 45.2s\tremaining: 457ms\n",
            "297:\tlearn: 0.9868288\ttotal: 45.3s\tremaining: 304ms\n",
            "298:\tlearn: 0.9868288\ttotal: 45.5s\tremaining: 152ms\n",
            "299:\tlearn: 0.9868288\ttotal: 45.6s\tremaining: 0us\n",
            "              precision    recall  f1-score   support\n",
            "\n",
            "           0       0.99      1.00      1.00     15625\n",
            "           1       0.93      0.78      0.85       375\n",
            "\n",
            "    accuracy                           0.99     16000\n",
            "   macro avg       0.96      0.89      0.92     16000\n",
            "weighted avg       0.99      0.99      0.99     16000\n",
            "\n"
          ]
        }
      ]
    },
    {
      "cell_type": "code",
      "source": [
        "pip install imbalanced-learn"
      ],
      "metadata": {
        "colab": {
          "base_uri": "https://localhost:8080/"
        },
        "id": "aFAWNZiNPK9p",
        "outputId": "cca7465c-3cfd-4956-9e7d-ab9e03448cd3"
      },
      "execution_count": null,
      "outputs": [
        {
          "output_type": "stream",
          "name": "stdout",
          "text": [
            "Requirement already satisfied: imbalanced-learn in /usr/local/lib/python3.10/dist-packages (0.10.1)\n",
            "Requirement already satisfied: numpy>=1.17.3 in /usr/local/lib/python3.10/dist-packages (from imbalanced-learn) (1.25.2)\n",
            "Requirement already satisfied: scipy>=1.3.2 in /usr/local/lib/python3.10/dist-packages (from imbalanced-learn) (1.11.4)\n",
            "Requirement already satisfied: scikit-learn>=1.0.2 in /usr/local/lib/python3.10/dist-packages (from imbalanced-learn) (1.2.2)\n",
            "Requirement already satisfied: joblib>=1.1.1 in /usr/local/lib/python3.10/dist-packages (from imbalanced-learn) (1.4.2)\n",
            "Requirement already satisfied: threadpoolctl>=2.0.0 in /usr/local/lib/python3.10/dist-packages (from imbalanced-learn) (3.5.0)\n"
          ]
        }
      ]
    },
    {
      "cell_type": "code",
      "source": [
        "from imblearn.ensemble import RUSBoostClassifier\n",
        "ru = RUSBoostClassifier(n_estimators=200, algorithm='SAMME.R',\n",
        "                              random_state=0)\n",
        "true_2, pred_2  = metrics_list = train_predict_model(ru, df_train, df_test, standartization=True)\n",
        "m_2 = calc_mean_metrics(true_2, pred_2)\n"
      ],
      "metadata": {
        "colab": {
          "base_uri": "https://localhost:8080/"
        },
        "id": "m5f8XMCFPNf0",
        "outputId": "80807d67-827e-4fc8-8ec3-8df153fa6cb5"
      },
      "execution_count": null,
      "outputs": [
        {
          "output_type": "stream",
          "name": "stdout",
          "text": [
            "              precision    recall  f1-score   support\n",
            "\n",
            "           0       0.99      0.98      0.99     15625\n",
            "           1       0.45      0.78      0.57       375\n",
            "\n",
            "    accuracy                           0.97     16000\n",
            "   macro avg       0.72      0.88      0.78     16000\n",
            "weighted avg       0.98      0.97      0.98     16000\n",
            "\n"
          ]
        }
      ]
    },
    {
      "cell_type": "code",
      "source": [
        "from sklearn.ensemble import AdaBoostClassifier\n",
        "ada = AdaBoostClassifier(n_estimators=10, algorithm=\"SAMME\")\n",
        "true_2, pred_2  = metrics_list = train_predict_model(ada, df_train, df_test, standartization=True)\n",
        "m_2 = calc_mean_metrics(true_2, pred_2)"
      ],
      "metadata": {
        "colab": {
          "base_uri": "https://localhost:8080/"
        },
        "id": "4N5so3q1QK2p",
        "outputId": "d63212b4-7cf3-4502-f118-cdbd6746f1f9"
      },
      "execution_count": null,
      "outputs": [
        {
          "output_type": "stream",
          "name": "stdout",
          "text": [
            "              precision    recall  f1-score   support\n",
            "\n",
            "           0       0.99      1.00      0.99     15625\n",
            "           1       0.79      0.39      0.52       375\n",
            "\n",
            "    accuracy                           0.98     16000\n",
            "   macro avg       0.89      0.69      0.76     16000\n",
            "weighted avg       0.98      0.98      0.98     16000\n",
            "\n"
          ]
        }
      ]
    },
    {
      "cell_type": "code",
      "source": [],
      "metadata": {
        "id": "Vue7Vny_1V7G"
      },
      "execution_count": null,
      "outputs": []
    }
  ]
}